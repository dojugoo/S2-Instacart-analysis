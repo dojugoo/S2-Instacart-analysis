{
 "cells": [
  {
   "cell_type": "markdown",
   "metadata": {},
   "source": [
    "# Project 2: Exploratory Data Analysis (EDA)"
   ]
  },
  {
   "cell_type": "markdown",
   "metadata": {},
   "source": [
    "# Contents \n",
    "\n",
    "* [Stage 1. Find and remove duplicate values](#duplicate)\n",
    "    * [1.1 product_orders data frame](#orders)\n",
    "    * [1.2 products data frame](#products)\n",
    "    * [1.3 departments data frame](#departments)\n",
    "    * [1.4 aisles data frame](#aisles)\n",
    "    * [1.5 order_products data frame](#order_products)\n",
    "* [Stage 2. Find and remove missing values](#missing)\n",
    "    * [2.1 products data frame](#products_two)\n",
    "    * [2.2 product_orders data frame](#orders_two)\n",
    "    * [2.3 order_products data frame](#order_products_two)\n",
    "* [TASK A](#A)\n",
    "* [TASK B](#B)\n",
    "* [TASK C](#C)"
   ]
  },
  {
   "cell_type": "markdown",
   "metadata": {},
   "source": [
    "# Project goal\n",
    "\n",
    "The goal of this project is to clean up the modified dataset provided from Instacart to prepare a report that gives insight into the shopping habits of Instacart customers."
   ]
  },
  {
   "cell_type": "markdown",
   "metadata": {},
   "source": [
    "<a id=duplicate></a>\n",
    "## Find and remove duplicate values"
   ]
  },
  {
   "cell_type": "code",
   "execution_count": 4,
   "metadata": {},
   "outputs": [],
   "source": [
    "import pandas as pd\n",
    "from matplotlib import pyplot as plt"
   ]
  },
  {
   "cell_type": "markdown",
   "metadata": {},
   "source": [
    "<a id='orders'></a>\n",
    "### `orders` data frame"
   ]
  },
  {
   "cell_type": "code",
   "execution_count": 5,
   "metadata": {},
   "outputs": [
    {
     "name": "stdout",
     "output_type": "stream",
     "text": [
      "<class 'pandas.core.frame.DataFrame'>\n",
      "RangeIndex: 478967 entries, 0 to 478966\n",
      "Data columns (total 6 columns):\n",
      " #   Column                  Non-Null Count   Dtype  \n",
      "---  ------                  --------------   -----  \n",
      " 0   order_id                478967 non-null  int64  \n",
      " 1   user_id                 478967 non-null  int64  \n",
      " 2   order_number            478967 non-null  int64  \n",
      " 3   order_dow               478967 non-null  int64  \n",
      " 4   order_hour_of_day       478967 non-null  int64  \n",
      " 5   days_since_prior_order  450148 non-null  float64\n",
      "dtypes: float64(1), int64(5)\n",
      "memory usage: 21.9 MB\n",
      "        order_id  user_id  order_number  order_dow  order_hour_of_day  \\\n",
      "123462   1259913   164699            77          3                 11   \n",
      "296083    918085   124417            14          6                  7   \n",
      "237384   1548759   130417             3          0                 22   \n",
      "21100     430319   130699             6          6                 17   \n",
      "330685   2357597    65629            11          2                 13   \n",
      "\n",
      "        days_since_prior_order  \n",
      "123462                     1.0  \n",
      "296083                    21.0  \n",
      "237384                    30.0  \n",
      "21100                     10.0  \n",
      "330685                    13.0  \n"
     ]
    }
   ],
   "source": [
    "# reading instacart_orders.csv file and storing into insta_orders\n",
    "insta_orders = pd.read_csv('datasets/instacart_orders.csv', sep=';')\n",
    "\n",
    "# printing information on the data\n",
    "insta_orders.info()\n",
    "\n",
    "# print random 5 rows of the dataset\n",
    "print(insta_orders.sample(5))"
   ]
  },
  {
   "cell_type": "markdown",
   "metadata": {},
   "source": [
    "The table contains 6 columns.\n",
    "According to the documentation: `instacart_orders.csv`: each row corresponds to one order on the Instacart app\n",
    "- `'order_id'`: ID number that uniquely identifies each order\n",
    "- `'user_id'`: ID number that uniquely identifies each customer account\n",
    "- `'order_number'`: the number of times this customer has placed an order\n",
    "- `'order_dow'`: day of the week that the order placed (which day is 0 is uncertain)\n",
    "- `'order_hour_of_day'`: hour of the day that the order was placed\n",
    "- `'days_since_prior_order'`: number of days since this customer placed their previous order"
   ]
  },
  {
   "cell_type": "code",
   "execution_count": 6,
   "metadata": {},
   "outputs": [
    {
     "name": "stdout",
     "output_type": "stream",
     "text": [
      "15\n"
     ]
    }
   ],
   "source": [
    "# Check for duplicated orders\n",
    "print(insta_orders.duplicated().sum())"
   ]
  },
  {
   "cell_type": "markdown",
   "metadata": {},
   "source": [
    "Two methods to check for duplicated orders. `duplicated().sum()` and `value_counts()` on `order_id` confirm validity of the duplicates"
   ]
  },
  {
   "cell_type": "code",
   "execution_count": 7,
   "metadata": {},
   "outputs": [
    {
     "data": {
      "text/html": [
       "<div>\n",
       "<style scoped>\n",
       "    .dataframe tbody tr th:only-of-type {\n",
       "        vertical-align: middle;\n",
       "    }\n",
       "\n",
       "    .dataframe tbody tr th {\n",
       "        vertical-align: top;\n",
       "    }\n",
       "\n",
       "    .dataframe thead th {\n",
       "        text-align: right;\n",
       "    }\n",
       "</style>\n",
       "<table border=\"1\" class=\"dataframe\">\n",
       "  <thead>\n",
       "    <tr style=\"text-align: right;\">\n",
       "      <th></th>\n",
       "      <th>order_id</th>\n",
       "      <th>user_id</th>\n",
       "      <th>order_number</th>\n",
       "      <th>order_dow</th>\n",
       "      <th>order_hour_of_day</th>\n",
       "      <th>days_since_prior_order</th>\n",
       "    </tr>\n",
       "  </thead>\n",
       "  <tbody>\n",
       "    <tr>\n",
       "      <th>145574</th>\n",
       "      <td>794638</td>\n",
       "      <td>50898</td>\n",
       "      <td>24</td>\n",
       "      <td>3</td>\n",
       "      <td>2</td>\n",
       "      <td>2.0</td>\n",
       "    </tr>\n",
       "    <tr>\n",
       "      <th>223105</th>\n",
       "      <td>2160484</td>\n",
       "      <td>107525</td>\n",
       "      <td>16</td>\n",
       "      <td>3</td>\n",
       "      <td>2</td>\n",
       "      <td>30.0</td>\n",
       "    </tr>\n",
       "    <tr>\n",
       "      <th>230807</th>\n",
       "      <td>1918001</td>\n",
       "      <td>188546</td>\n",
       "      <td>14</td>\n",
       "      <td>3</td>\n",
       "      <td>2</td>\n",
       "      <td>16.0</td>\n",
       "    </tr>\n",
       "    <tr>\n",
       "      <th>266232</th>\n",
       "      <td>1782114</td>\n",
       "      <td>106752</td>\n",
       "      <td>1</td>\n",
       "      <td>3</td>\n",
       "      <td>2</td>\n",
       "      <td>NaN</td>\n",
       "    </tr>\n",
       "    <tr>\n",
       "      <th>273805</th>\n",
       "      <td>1112182</td>\n",
       "      <td>202304</td>\n",
       "      <td>84</td>\n",
       "      <td>3</td>\n",
       "      <td>2</td>\n",
       "      <td>6.0</td>\n",
       "    </tr>\n",
       "    <tr>\n",
       "      <th>284038</th>\n",
       "      <td>2845099</td>\n",
       "      <td>31189</td>\n",
       "      <td>11</td>\n",
       "      <td>3</td>\n",
       "      <td>2</td>\n",
       "      <td>7.0</td>\n",
       "    </tr>\n",
       "    <tr>\n",
       "      <th>311713</th>\n",
       "      <td>1021560</td>\n",
       "      <td>53767</td>\n",
       "      <td>3</td>\n",
       "      <td>3</td>\n",
       "      <td>2</td>\n",
       "      <td>9.0</td>\n",
       "    </tr>\n",
       "    <tr>\n",
       "      <th>321100</th>\n",
       "      <td>408114</td>\n",
       "      <td>68324</td>\n",
       "      <td>4</td>\n",
       "      <td>3</td>\n",
       "      <td>2</td>\n",
       "      <td>18.0</td>\n",
       "    </tr>\n",
       "    <tr>\n",
       "      <th>323900</th>\n",
       "      <td>1919531</td>\n",
       "      <td>191501</td>\n",
       "      <td>32</td>\n",
       "      <td>3</td>\n",
       "      <td>2</td>\n",
       "      <td>7.0</td>\n",
       "    </tr>\n",
       "    <tr>\n",
       "      <th>345917</th>\n",
       "      <td>2232988</td>\n",
       "      <td>82565</td>\n",
       "      <td>1</td>\n",
       "      <td>3</td>\n",
       "      <td>2</td>\n",
       "      <td>NaN</td>\n",
       "    </tr>\n",
       "    <tr>\n",
       "      <th>371905</th>\n",
       "      <td>391768</td>\n",
       "      <td>57671</td>\n",
       "      <td>19</td>\n",
       "      <td>3</td>\n",
       "      <td>2</td>\n",
       "      <td>10.0</td>\n",
       "    </tr>\n",
       "    <tr>\n",
       "      <th>394347</th>\n",
       "      <td>467134</td>\n",
       "      <td>63189</td>\n",
       "      <td>21</td>\n",
       "      <td>3</td>\n",
       "      <td>2</td>\n",
       "      <td>2.0</td>\n",
       "    </tr>\n",
       "    <tr>\n",
       "      <th>411408</th>\n",
       "      <td>1286742</td>\n",
       "      <td>183220</td>\n",
       "      <td>48</td>\n",
       "      <td>3</td>\n",
       "      <td>2</td>\n",
       "      <td>4.0</td>\n",
       "    </tr>\n",
       "    <tr>\n",
       "      <th>415163</th>\n",
       "      <td>2282673</td>\n",
       "      <td>86751</td>\n",
       "      <td>49</td>\n",
       "      <td>3</td>\n",
       "      <td>2</td>\n",
       "      <td>2.0</td>\n",
       "    </tr>\n",
       "    <tr>\n",
       "      <th>441599</th>\n",
       "      <td>2125197</td>\n",
       "      <td>14050</td>\n",
       "      <td>48</td>\n",
       "      <td>3</td>\n",
       "      <td>2</td>\n",
       "      <td>3.0</td>\n",
       "    </tr>\n",
       "  </tbody>\n",
       "</table>\n",
       "</div>"
      ],
      "text/plain": [
       "        order_id  user_id  order_number  order_dow  order_hour_of_day  \\\n",
       "145574    794638    50898            24          3                  2   \n",
       "223105   2160484   107525            16          3                  2   \n",
       "230807   1918001   188546            14          3                  2   \n",
       "266232   1782114   106752             1          3                  2   \n",
       "273805   1112182   202304            84          3                  2   \n",
       "284038   2845099    31189            11          3                  2   \n",
       "311713   1021560    53767             3          3                  2   \n",
       "321100    408114    68324             4          3                  2   \n",
       "323900   1919531   191501            32          3                  2   \n",
       "345917   2232988    82565             1          3                  2   \n",
       "371905    391768    57671            19          3                  2   \n",
       "394347    467134    63189            21          3                  2   \n",
       "411408   1286742   183220            48          3                  2   \n",
       "415163   2282673    86751            49          3                  2   \n",
       "441599   2125197    14050            48          3                  2   \n",
       "\n",
       "        days_since_prior_order  \n",
       "145574                     2.0  \n",
       "223105                    30.0  \n",
       "230807                    16.0  \n",
       "266232                     NaN  \n",
       "273805                     6.0  \n",
       "284038                     7.0  \n",
       "311713                     9.0  \n",
       "321100                    18.0  \n",
       "323900                     7.0  \n",
       "345917                     NaN  \n",
       "371905                    10.0  \n",
       "394347                     2.0  \n",
       "411408                     4.0  \n",
       "415163                     2.0  \n",
       "441599                     3.0  "
      ]
     },
     "execution_count": 7,
     "metadata": {},
     "output_type": "execute_result"
    }
   ],
   "source": [
    "insta_orders[insta_orders.duplicated(subset='order_id')]"
   ]
  },
  {
   "cell_type": "code",
   "execution_count": 8,
   "metadata": {},
   "outputs": [
    {
     "data": {
      "text/html": [
       "<div>\n",
       "<style scoped>\n",
       "    .dataframe tbody tr th:only-of-type {\n",
       "        vertical-align: middle;\n",
       "    }\n",
       "\n",
       "    .dataframe tbody tr th {\n",
       "        vertical-align: top;\n",
       "    }\n",
       "\n",
       "    .dataframe thead th {\n",
       "        text-align: right;\n",
       "    }\n",
       "</style>\n",
       "<table border=\"1\" class=\"dataframe\">\n",
       "  <thead>\n",
       "    <tr style=\"text-align: right;\">\n",
       "      <th></th>\n",
       "      <th>order_id</th>\n",
       "      <th>user_id</th>\n",
       "      <th>order_number</th>\n",
       "      <th>order_dow</th>\n",
       "      <th>order_hour_of_day</th>\n",
       "      <th>days_since_prior_order</th>\n",
       "    </tr>\n",
       "  </thead>\n",
       "  <tbody>\n",
       "    <tr>\n",
       "      <th>2124</th>\n",
       "      <td>401544</td>\n",
       "      <td>80955</td>\n",
       "      <td>72</td>\n",
       "      <td>4</td>\n",
       "      <td>2</td>\n",
       "      <td>2.0</td>\n",
       "    </tr>\n",
       "    <tr>\n",
       "      <th>14847</th>\n",
       "      <td>1913472</td>\n",
       "      <td>138992</td>\n",
       "      <td>16</td>\n",
       "      <td>4</td>\n",
       "      <td>2</td>\n",
       "      <td>6.0</td>\n",
       "    </tr>\n",
       "    <tr>\n",
       "      <th>16116</th>\n",
       "      <td>2796392</td>\n",
       "      <td>154904</td>\n",
       "      <td>12</td>\n",
       "      <td>4</td>\n",
       "      <td>2</td>\n",
       "      <td>13.0</td>\n",
       "    </tr>\n",
       "    <tr>\n",
       "      <th>16471</th>\n",
       "      <td>2209130</td>\n",
       "      <td>72786</td>\n",
       "      <td>5</td>\n",
       "      <td>4</td>\n",
       "      <td>2</td>\n",
       "      <td>30.0</td>\n",
       "    </tr>\n",
       "    <tr>\n",
       "      <th>32120</th>\n",
       "      <td>2235095</td>\n",
       "      <td>89980</td>\n",
       "      <td>18</td>\n",
       "      <td>4</td>\n",
       "      <td>2</td>\n",
       "      <td>7.0</td>\n",
       "    </tr>\n",
       "    <tr>\n",
       "      <th>32426</th>\n",
       "      <td>3400949</td>\n",
       "      <td>76168</td>\n",
       "      <td>2</td>\n",
       "      <td>4</td>\n",
       "      <td>2</td>\n",
       "      <td>25.0</td>\n",
       "    </tr>\n",
       "    <tr>\n",
       "      <th>34081</th>\n",
       "      <td>1335087</td>\n",
       "      <td>59328</td>\n",
       "      <td>23</td>\n",
       "      <td>4</td>\n",
       "      <td>2</td>\n",
       "      <td>25.0</td>\n",
       "    </tr>\n",
       "    <tr>\n",
       "      <th>39368</th>\n",
       "      <td>605787</td>\n",
       "      <td>52824</td>\n",
       "      <td>37</td>\n",
       "      <td>4</td>\n",
       "      <td>2</td>\n",
       "      <td>1.0</td>\n",
       "    </tr>\n",
       "    <tr>\n",
       "      <th>43515</th>\n",
       "      <td>3407108</td>\n",
       "      <td>46375</td>\n",
       "      <td>1</td>\n",
       "      <td>4</td>\n",
       "      <td>2</td>\n",
       "      <td>NaN</td>\n",
       "    </tr>\n",
       "    <tr>\n",
       "      <th>45762</th>\n",
       "      <td>2604454</td>\n",
       "      <td>122001</td>\n",
       "      <td>3</td>\n",
       "      <td>4</td>\n",
       "      <td>2</td>\n",
       "      <td>3.0</td>\n",
       "    </tr>\n",
       "  </tbody>\n",
       "</table>\n",
       "</div>"
      ],
      "text/plain": [
       "       order_id  user_id  order_number  order_dow  order_hour_of_day  \\\n",
       "2124     401544    80955            72          4                  2   \n",
       "14847   1913472   138992            16          4                  2   \n",
       "16116   2796392   154904            12          4                  2   \n",
       "16471   2209130    72786             5          4                  2   \n",
       "32120   2235095    89980            18          4                  2   \n",
       "32426   3400949    76168             2          4                  2   \n",
       "34081   1335087    59328            23          4                  2   \n",
       "39368    605787    52824            37          4                  2   \n",
       "43515   3407108    46375             1          4                  2   \n",
       "45762   2604454   122001             3          4                  2   \n",
       "\n",
       "       days_since_prior_order  \n",
       "2124                      2.0  \n",
       "14847                     6.0  \n",
       "16116                    13.0  \n",
       "16471                    30.0  \n",
       "32120                     7.0  \n",
       "32426                    25.0  \n",
       "34081                    25.0  \n",
       "39368                     1.0  \n",
       "43515                     NaN  \n",
       "45762                     3.0  "
      ]
     },
     "execution_count": 8,
     "metadata": {},
     "output_type": "execute_result"
    }
   ],
   "source": [
    "# Check for all orders placed Wednesday at 2:00 AM\n",
    "#insta_orders[(insta_orders['order_hour_of_day'] == 2) & (insta_orders['order_dow'] == 4)]\n",
    "\n",
    "#using query to custom filter\n",
    "insta_orders.query(\"order_dow == 4 and order_hour_of_day == 2\").head(10)"
   ]
  },
  {
   "cell_type": "code",
   "execution_count": 9,
   "metadata": {},
   "outputs": [],
   "source": [
    "# Remove duplicate orders\n",
    "insta_orders = insta_orders.drop_duplicates().reset_index(drop=True)"
   ]
  },
  {
   "cell_type": "code",
   "execution_count": 10,
   "metadata": {},
   "outputs": [
    {
     "data": {
      "text/plain": [
       "0"
      ]
     },
     "execution_count": 10,
     "metadata": {},
     "output_type": "execute_result"
    }
   ],
   "source": [
    "# Double check for duplicate rows\n",
    "insta_orders.duplicated().sum()"
   ]
  },
  {
   "cell_type": "code",
   "execution_count": 11,
   "metadata": {},
   "outputs": [
    {
     "name": "stdout",
     "output_type": "stream",
     "text": [
      "1515936    1\n",
      "2365274    1\n",
      "336622     1\n",
      "684027     1\n",
      "1115132    1\n",
      "          ..\n",
      "2578130    1\n",
      "1034057    1\n",
      "597364     1\n",
      "2142471    1\n",
      "2071924    1\n",
      "Name: order_id, Length: 478952, dtype: int64\n",
      "0\n"
     ]
    }
   ],
   "source": [
    "# Double check for duplicate order IDs only\n",
    "print(insta_orders['order_id'].value_counts())\n",
    "print(insta_orders['order_id'].duplicated().sum())"
   ]
  },
  {
   "cell_type": "markdown",
   "metadata": {},
   "source": [
    "Overall impression on the instacart_orders dataset:\n",
    "- 478967 entries/rows\n",
    "- types are all int/float, matches what is expected and with the descriptions\n",
    "- Only missing data is in 'days_of_prior_order', but this could be due to first time orders with no purchase history\n",
    "- Removed fully duplicated rows"
   ]
  },
  {
   "cell_type": "markdown",
   "metadata": {},
   "source": [
    "<a id='products'></a>\n",
    "### `products` data frame"
   ]
  },
  {
   "cell_type": "code",
   "execution_count": 12,
   "metadata": {},
   "outputs": [
    {
     "name": "stdout",
     "output_type": "stream",
     "text": [
      "<class 'pandas.core.frame.DataFrame'>\n",
      "RangeIndex: 49694 entries, 0 to 49693\n",
      "Data columns (total 4 columns):\n",
      " #   Column         Non-Null Count  Dtype \n",
      "---  ------         --------------  ----- \n",
      " 0   product_id     49694 non-null  int64 \n",
      " 1   product_name   48436 non-null  object\n",
      " 2   aisle_id       49694 non-null  int64 \n",
      " 3   department_id  49694 non-null  int64 \n",
      "dtypes: int64(3), object(1)\n",
      "memory usage: 1.5+ MB\n",
      "       product_id                       product_name  aisle_id  department_id\n",
      "44661       44662       Mango Premium Ice Cream Bars        37              1\n",
      "1511         1512  Berry Flavor Children's Ibuprofen        11             11\n",
      "6346         6347            Unsweetened Almond Milk        91             16\n",
      "5977         5978        Decorating Green Cake Icing        97             13\n",
      "1024         1025                Organic Fresh Basil        16              4\n"
     ]
    }
   ],
   "source": [
    "# reading products.csv file and storing into products\n",
    "products = pd.read_csv('datasets/products.csv', sep=';')\n",
    "\n",
    "# printing information on the data\n",
    "products.info()\n",
    "\n",
    "# print random 5 rows of the dataset\n",
    "print(products.sample(5))"
   ]
  },
  {
   "cell_type": "markdown",
   "metadata": {},
   "source": [
    "The table contains 4 columns.\n",
    "According to the documentation: `products.csv`: each row corresponds to a unique product that customers can buy\n",
    "- `'product_id'`: ID number that uniquely identifies each product\n",
    "- `'product_name'`: name of the product\n",
    "- `'aisle_id'`: ID number that uniquely identifies each grocery aisle category\n",
    "- `'department_id'`: ID number that uniquely identifies each grocery department category"
   ]
  },
  {
   "cell_type": "code",
   "execution_count": 13,
   "metadata": {},
   "outputs": [
    {
     "data": {
      "text/plain": [
       "0"
      ]
     },
     "execution_count": 13,
     "metadata": {},
     "output_type": "execute_result"
    }
   ],
   "source": [
    "# Check for fully duplicate rows\n",
    "products.duplicated().sum()"
   ]
  },
  {
   "cell_type": "code",
   "execution_count": 14,
   "metadata": {},
   "outputs": [
    {
     "name": "stdout",
     "output_type": "stream",
     "text": [
      "0\n"
     ]
    }
   ],
   "source": [
    "# Check for just duplicate product IDs\n",
    "print(products['product_id'].duplicated().sum())"
   ]
  },
  {
   "cell_type": "code",
   "execution_count": 15,
   "metadata": {},
   "outputs": [
    {
     "data": {
      "text/plain": [
       "1361"
      ]
     },
     "execution_count": 15,
     "metadata": {},
     "output_type": "execute_result"
    }
   ],
   "source": [
    "# Check for just duplicate product names (convert names to lowercase to compare better)\n",
    "products['product_name'].str.lower().duplicated().sum()"
   ]
  },
  {
   "cell_type": "code",
   "execution_count": 17,
   "metadata": {},
   "outputs": [
    {
     "name": "stdout",
     "output_type": "stream",
     "text": [
      "104\n",
      "\n",
      "       product_id                                       product_name  \\\n",
      "35421       35422  Gentle And Predictable Overnight Relief Laxati...   \n",
      "44078       44079                                     Blanc de Noirs   \n",
      "42570       42571                      Fruit Cocktail in Heavy Syrup   \n",
      "30894       30895                  Chunk Light Tuna in Vegetable Oil   \n",
      "39296       39297                              Original potato Chips   \n",
      "15659       15660                                    Cream of Tartar   \n",
      "47184       47185                  Spreadable Butter with Canola Oil   \n",
      "32048       32049                    Concentrace Trace Mineral Drops   \n",
      "41328       41329                           Carrot And Celery Sticks   \n",
      "46051       46052                  Mountain berry Blast Sports Drink   \n",
      "\n",
      "       aisle_id  department_id  \\\n",
      "35421        70             11   \n",
      "44078       134              5   \n",
      "42570        99             15   \n",
      "30894        95             15   \n",
      "39296       107             19   \n",
      "15659       104             13   \n",
      "47184        36             16   \n",
      "32048        47             11   \n",
      "41328       123              4   \n",
      "46051        64              7   \n",
      "\n",
      "                                       product_lowercase  \n",
      "35421  gentle and predictable overnight relief laxati...  \n",
      "44078                                     blanc de noirs  \n",
      "42570                      fruit cocktail in heavy syrup  \n",
      "30894                  chunk light tuna in vegetable oil  \n",
      "39296                              original potato chips  \n",
      "15659                                    cream of tartar  \n",
      "47184                  spreadable butter with canola oil  \n",
      "32048                    concentrace trace mineral drops  \n",
      "41328                           carrot and celery sticks  \n",
      "46051                  mountain berry blast sports drink  \n"
     ]
    }
   ],
   "source": [
    "# Check for duplicate product names that aren't missing\n",
    "tmp = pd.read_csv('datasets/products.csv', sep=';')\n",
    "tmp['product_lowercase'] = tmp['product_name'].str.lower()\n",
    "\n",
    "# Count of duplicate product names that aren't missing\n",
    "print(tmp[(tmp['product_lowercase'].duplicated()) & (~tmp['product_lowercase'].isna())]['product_name'].count())\n",
    "print()\n",
    "print(tmp[(tmp['product_lowercase'].duplicated()) & (~tmp['product_lowercase'].isna())].sample(10))"
   ]
  },
  {
   "cell_type": "markdown",
   "metadata": {},
   "source": [
    "There are 1258 missing values for product_name, and 104 duplicate product names, indicated above."
   ]
  },
  {
   "cell_type": "markdown",
   "metadata": {},
   "source": [
    "Overall impression on the products dataset:\n",
    "- 49694 entries/rows\n",
    "- types matches what is expected and with the descriptions\n",
    "- Missing data is in 'product_name', which needs to be determined why\n",
    "- No fully duplicated rows in table\n",
    "- product_name are duplicated, and needs to be explored why. One possible reason is different brands with same product names."
   ]
  },
  {
   "cell_type": "markdown",
   "metadata": {},
   "source": [
    "<a id='departments'></a>\n",
    "### `departments` data frame"
   ]
  },
  {
   "cell_type": "code",
   "execution_count": 18,
   "metadata": {},
   "outputs": [
    {
     "name": "stdout",
     "output_type": "stream",
     "text": [
      "<class 'pandas.core.frame.DataFrame'>\n",
      "RangeIndex: 21 entries, 0 to 20\n",
      "Data columns (total 2 columns):\n",
      " #   Column         Non-Null Count  Dtype \n",
      "---  ------         --------------  ----- \n",
      " 0   department_id  21 non-null     int64 \n",
      " 1   department     21 non-null     object\n",
      "dtypes: int64(1), object(1)\n",
      "memory usage: 464.0+ bytes\n",
      "    department_id     department\n",
      "3               4        produce\n",
      "16             17      household\n",
      "10             11  personal care\n",
      "4               5        alcohol\n",
      "12             13         pantry\n"
     ]
    }
   ],
   "source": [
    "# reading departments.csv file and storing into departments\n",
    "departments = pd.read_csv('datasets/departments.csv', sep=';')\n",
    "\n",
    "# printing information on the data\n",
    "departments.info()\n",
    "\n",
    "# print random 5 rows of the dataset\n",
    "print(departments.sample(5))"
   ]
  },
  {
   "cell_type": "markdown",
   "metadata": {},
   "source": [
    "The table contains 2 columns.\n",
    "According to the documentation: `departments.csv`:\n",
    "- `'department_id'`: ID number that uniquely identifies each grocery department category\n",
    "- `'department'`: name of the department"
   ]
  },
  {
   "cell_type": "code",
   "execution_count": 19,
   "metadata": {},
   "outputs": [
    {
     "name": "stdout",
     "output_type": "stream",
     "text": [
      "0\n",
      "1     1\n",
      "12    1\n",
      "20    1\n",
      "19    1\n",
      "18    1\n",
      "17    1\n",
      "16    1\n",
      "15    1\n",
      "14    1\n",
      "13    1\n",
      "11    1\n",
      "2     1\n",
      "10    1\n",
      "9     1\n",
      "8     1\n",
      "7     1\n",
      "6     1\n",
      "5     1\n",
      "4     1\n",
      "3     1\n",
      "21    1\n",
      "Name: department_id, dtype: int64\n",
      "frozen             1\n",
      "meat seafood       1\n",
      "deli               1\n",
      "snacks             1\n",
      "babies             1\n",
      "household          1\n",
      "dairy eggs         1\n",
      "canned goods       1\n",
      "breakfast          1\n",
      "pantry             1\n",
      "personal care      1\n",
      "other              1\n",
      "bulk               1\n",
      "dry goods pasta    1\n",
      "pets               1\n",
      "beverages          1\n",
      "international      1\n",
      "alcohol            1\n",
      "produce            1\n",
      "bakery             1\n",
      "missing            1\n",
      "Name: department, dtype: int64\n"
     ]
    }
   ],
   "source": [
    "# Check for fully duplicated rows\n",
    "print(departments.duplicated().sum())\n",
    "\n",
    "# Check for duplicated department_id or department names\n",
    "print(departments['department_id'].value_counts())\n",
    "print(departments['department'].str.lower().value_counts())"
   ]
  },
  {
   "cell_type": "markdown",
   "metadata": {},
   "source": [
    "Overall impression on the departments dataset:\n",
    "- 21 entries/rows, no missing data\n",
    "- types matches what is expected and with the descriptions\n",
    "- No fully duplicated rows in table, or duplicated names or ID"
   ]
  },
  {
   "cell_type": "markdown",
   "metadata": {},
   "source": [
    "<a id='aisles'></a>\n",
    "### `aisles` data frame"
   ]
  },
  {
   "cell_type": "code",
   "execution_count": 20,
   "metadata": {},
   "outputs": [
    {
     "name": "stdout",
     "output_type": "stream",
     "text": [
      "<class 'pandas.core.frame.DataFrame'>\n",
      "RangeIndex: 134 entries, 0 to 133\n",
      "Data columns (total 2 columns):\n",
      " #   Column    Non-Null Count  Dtype \n",
      "---  ------    --------------  ----- \n",
      " 0   aisle_id  134 non-null    int64 \n",
      " 1   aisle     134 non-null    object\n",
      "dtypes: int64(1), object(1)\n",
      "memory usage: 2.2+ KB\n",
      "     aisle_id              aisle\n",
      "32         33       kosher foods\n",
      "125       126      feminine care\n",
      "118       119     frozen dessert\n",
      "113       114  cleaning products\n",
      "72         73        facial care\n"
     ]
    }
   ],
   "source": [
    "# reading /datasets/aisles.csv file and storing into aisles\n",
    "aisles = pd.read_csv('datasets/aisles.csv', sep=';')\n",
    "\n",
    "# printing information on the data\n",
    "aisles.info()\n",
    "\n",
    "# print random 5 rows of the dataset\n",
    "print(aisles.sample(5))"
   ]
  },
  {
   "cell_type": "markdown",
   "metadata": {},
   "source": [
    "The table contains 2 columns.\n",
    "According to the documentation: `aisles.csv`:\n",
    "- `'aisle_id'`: ID number that uniquely identifies each grocery aisle category\n",
    "- `'aisle'`: name of the aisle"
   ]
  },
  {
   "cell_type": "code",
   "execution_count": 21,
   "metadata": {},
   "outputs": [
    {
     "name": "stdout",
     "output_type": "stream",
     "text": [
      "0\n",
      "1      1\n",
      "85     1\n",
      "99     1\n",
      "98     1\n",
      "97     1\n",
      "      ..\n",
      "40     1\n",
      "39     1\n",
      "38     1\n",
      "37     1\n",
      "134    1\n",
      "Name: aisle_id, Length: 134, dtype: int64\n",
      "prepared soups salads         1\n",
      "food storage                  1\n",
      "canned fruit applesauce       1\n",
      "juice nectars                 1\n",
      "baking supplies decor         1\n",
      "                             ..\n",
      "dog food care                 1\n",
      "seafood counter               1\n",
      "frozen meals                  1\n",
      "ice cream ice                 1\n",
      "specialty wines champagnes    1\n",
      "Name: aisle, Length: 134, dtype: int64\n"
     ]
    }
   ],
   "source": [
    "# Check for fully duplicated rows\n",
    "print(aisles.duplicated().sum())\n",
    "\n",
    "# Check for duplicated aisle_id or aisle names\n",
    "print(aisles['aisle_id'].value_counts())\n",
    "print(aisles['aisle'].str.lower().value_counts())"
   ]
  },
  {
   "cell_type": "markdown",
   "metadata": {},
   "source": [
    "Overall impression on the aisle dataset:\n",
    "- 134 entries/rows, no missing data\n",
    "- types matches what is expected and with the descriptions\n",
    "- No fully duplicated rows in table, or duplicated names or ID"
   ]
  },
  {
   "cell_type": "markdown",
   "metadata": {},
   "source": [
    "<a id='order_products'></a>\n",
    "### `order_products` data frame"
   ]
  },
  {
   "cell_type": "code",
   "execution_count": 22,
   "metadata": {},
   "outputs": [
    {
     "name": "stdout",
     "output_type": "stream",
     "text": [
      "<class 'pandas.core.frame.DataFrame'>\n",
      "RangeIndex: 4545007 entries, 0 to 4545006\n",
      "Data columns (total 4 columns):\n",
      " #   Column             Non-Null Count    Dtype  \n",
      "---  ------             --------------    -----  \n",
      " 0   order_id           4545007 non-null  int64  \n",
      " 1   product_id         4545007 non-null  int64  \n",
      " 2   add_to_cart_order  4544171 non-null  float64\n",
      " 3   reordered          4545007 non-null  int64  \n",
      "dtypes: float64(1), int64(3)\n",
      "memory usage: 138.7 MB\n",
      "         order_id  product_id  add_to_cart_order  reordered\n",
      "1815235    323505        6341               15.0          1\n",
      "620580    1794356       27178               16.0          0\n",
      "3453463     44654       26790               12.0          1\n",
      "3177483    716917       42828               15.0          0\n",
      "1271866    808821       13176                1.0          1\n"
     ]
    }
   ],
   "source": [
    "# reading /datasets/order_products.csv file and storing into order_products\n",
    "order_products = pd.read_csv('datasets/order_products.csv', sep=';')\n",
    "\n",
    "# printing information on the data\n",
    "order_products.info(show_counts=True)\n",
    "\n",
    "# print random 5 rows of the dataset\n",
    "print(order_products.sample(5))"
   ]
  },
  {
   "cell_type": "markdown",
   "metadata": {},
   "source": [
    "The table contains 4 columns.\n",
    "According to the documentation: `order_products.csv`: each row corresponds to one item placed in an order\n",
    "- `'order_id'`: ID number that uniquely identifies each order\n",
    "- `'product_id'`: ID number that uniquely identifies each product\n",
    "- `'add_to_cart_order'`: the sequential order in which each item was placed in the cart\n",
    "- `'reordered'`: 0 if the customer has never ordered this product before, 1 if they have"
   ]
  },
  {
   "cell_type": "code",
   "execution_count": 23,
   "metadata": {},
   "outputs": [
    {
     "data": {
      "text/plain": [
       "0"
      ]
     },
     "execution_count": 23,
     "metadata": {},
     "output_type": "execute_result"
    }
   ],
   "source": [
    "# Check for fully duplicate rows\n",
    "order_products.duplicated().sum()"
   ]
  },
  {
   "cell_type": "code",
   "execution_count": 24,
   "metadata": {},
   "outputs": [
    {
     "name": "stdout",
     "output_type": "stream",
     "text": [
      "61355      127\n",
      "3308010    115\n",
      "2136777    108\n",
      "171934     104\n",
      "1959075     98\n",
      "1730767     95\n",
      "102236      95\n",
      "1800005     92\n",
      "2926893     92\n",
      "1386261     91\n",
      "Name: order_id, dtype: int64\n"
     ]
    }
   ],
   "source": [
    "# Double check for any other tricky duplicates\n",
    "print(order_products['order_id'].value_counts().head(10))"
   ]
  },
  {
   "cell_type": "markdown",
   "metadata": {},
   "source": [
    "Overall impression on the order_products dataset:\n",
    "- 4545007 entries/rows\n",
    "- 'add_to_cart_order' has missing values\n",
    "- types matches what is expected and with the descriptions\n",
    "- No fully duplicated rows in table\n",
    "- 'order_id' has many duplicates, likely meaning one order with multiple items and products"
   ]
  },
  {
   "cell_type": "markdown",
   "metadata": {},
   "source": [
    "<a id='missing'></a>\n",
    "## Find and remove missing values"
   ]
  },
  {
   "cell_type": "markdown",
   "metadata": {},
   "source": [
    "<a id='products_two'></a>\n",
    "### `products` data frame"
   ]
  },
  {
   "cell_type": "code",
   "execution_count": 25,
   "metadata": {},
   "outputs": [
    {
     "name": "stdout",
     "output_type": "stream",
     "text": [
      "       product_id product_name  aisle_id  department_id\n",
      "37             38          NaN       100             21\n",
      "71             72          NaN       100             21\n",
      "109           110          NaN       100             21\n",
      "296           297          NaN       100             21\n",
      "416           417          NaN       100             21\n",
      "...           ...          ...       ...            ...\n",
      "49552       49553          NaN       100             21\n",
      "49574       49575          NaN       100             21\n",
      "49640       49641          NaN       100             21\n",
      "49663       49664          NaN       100             21\n",
      "49668       49669          NaN       100             21\n",
      "\n",
      "[1258 rows x 4 columns]\n"
     ]
    }
   ],
   "source": [
    "# Print out the rows where 'product_name' is missing\n",
    "product_name_missing = products[products['product_name'].isna()]\n",
    "print(product_name_missing)"
   ]
  },
  {
   "cell_type": "code",
   "execution_count": 26,
   "metadata": {},
   "outputs": [
    {
     "data": {
      "text/plain": [
       "100    1258\n",
       "Name: aisle_id, dtype: int64"
      ]
     },
     "execution_count": 26,
     "metadata": {},
     "output_type": "execute_result"
    }
   ],
   "source": [
    "# Are all of the missing product names associated with aisle ID 100?\n",
    "product_name_missing['aisle_id'].value_counts()"
   ]
  },
  {
   "cell_type": "markdown",
   "metadata": {},
   "source": [
    "Yes, all missing product names are associated with aisle ID 100."
   ]
  },
  {
   "cell_type": "code",
   "execution_count": 27,
   "metadata": {},
   "outputs": [
    {
     "data": {
      "text/plain": [
       "21    1258\n",
       "Name: department_id, dtype: int64"
      ]
     },
     "execution_count": 27,
     "metadata": {},
     "output_type": "execute_result"
    }
   ],
   "source": [
    "# Are all of the missing product names associated with department ID 21?\n",
    "product_name_missing['department_id'].value_counts()"
   ]
  },
  {
   "cell_type": "markdown",
   "metadata": {},
   "source": [
    "Yes, all missing product names are associated with department ID 21."
   ]
  },
  {
   "cell_type": "code",
   "execution_count": 28,
   "metadata": {},
   "outputs": [
    {
     "name": "stdout",
     "output_type": "stream",
     "text": [
      "    aisle_id    aisle\n",
      "99       100  missing\n",
      "    department_id department\n",
      "20             21    missing\n"
     ]
    }
   ],
   "source": [
    "# What is this aisle and department?\n",
    "# Query for aisle_id = 100, and department_id = 21\n",
    "print(aisles.query(\"aisle_id == 100\"))\n",
    "print(departments.query(\"department_id == 21\"))"
   ]
  },
  {
   "cell_type": "markdown",
   "metadata": {},
   "source": [
    "Department ID 21 and aisle ID 100 are both missing."
   ]
  },
  {
   "cell_type": "code",
   "execution_count": 29,
   "metadata": {},
   "outputs": [],
   "source": [
    "# Fill missing product names with 'Unknown'\n",
    "products['product_name'] = products['product_name'].fillna('Unknown')"
   ]
  },
  {
   "cell_type": "code",
   "execution_count": 30,
   "metadata": {},
   "outputs": [
    {
     "name": "stdout",
     "output_type": "stream",
     "text": [
      "<class 'pandas.core.frame.DataFrame'>\n",
      "RangeIndex: 49694 entries, 0 to 49693\n",
      "Data columns (total 4 columns):\n",
      " #   Column         Non-Null Count  Dtype \n",
      "---  ------         --------------  ----- \n",
      " 0   product_id     49694 non-null  int64 \n",
      " 1   product_name   49694 non-null  object\n",
      " 2   aisle_id       49694 non-null  int64 \n",
      " 3   department_id  49694 non-null  int64 \n",
      "dtypes: int64(3), object(1)\n",
      "memory usage: 1.5+ MB\n"
     ]
    }
   ],
   "source": [
    "# Double check if missing values are filled\n",
    "products.info()"
   ]
  },
  {
   "cell_type": "markdown",
   "metadata": {},
   "source": [
    "<a id='orders_two'></a>\n",
    "### `orders` data frame"
   ]
  },
  {
   "cell_type": "code",
   "execution_count": 31,
   "metadata": {},
   "outputs": [
    {
     "name": "stdout",
     "output_type": "stream",
     "text": [
      "        order_id  user_id  order_number  order_dow  order_hour_of_day  \\\n",
      "28        133707   182261             1          3                 10   \n",
      "96        787445    25685             1          6                 18   \n",
      "100       294410   111449             1          0                 19   \n",
      "103      2869915   123958             1          4                 16   \n",
      "104      2521921    42286             1          3                 18   \n",
      "...          ...      ...           ...        ...                ...   \n",
      "478880   2589657   205028             1          0                 16   \n",
      "478881   2222353   141211             1          2                 13   \n",
      "478907   2272807   204154             1          1                 15   \n",
      "478911   2499542    68810             1          4                 19   \n",
      "478930   1387033    22496             1          5                 14   \n",
      "\n",
      "        days_since_prior_order  \n",
      "28                         NaN  \n",
      "96                         NaN  \n",
      "100                        NaN  \n",
      "103                        NaN  \n",
      "104                        NaN  \n",
      "...                        ...  \n",
      "478880                     NaN  \n",
      "478881                     NaN  \n",
      "478907                     NaN  \n",
      "478911                     NaN  \n",
      "478930                     NaN  \n",
      "\n",
      "[28817 rows x 6 columns]\n"
     ]
    },
    {
     "data": {
      "text/plain": [
       "1    28817\n",
       "Name: order_number, dtype: int64"
      ]
     },
     "execution_count": 31,
     "metadata": {},
     "output_type": "execute_result"
    }
   ],
   "source": [
    "# Are there any missing values where it's not a customer's first order?\n",
    "missing_dspo = insta_orders[insta_orders['days_since_prior_order'].isna()]\n",
    "print(missing_dspo)\n",
    "\n",
    "missing_dspo['order_number'].value_counts()"
   ]
  },
  {
   "cell_type": "markdown",
   "metadata": {},
   "source": [
    "All missing values are when its a customer's first order because the order_number value_counts() matches up with the missing values for days_since_prior_order (28817)."
   ]
  },
  {
   "cell_type": "code",
   "execution_count": 32,
   "metadata": {},
   "outputs": [
    {
     "data": {
      "text/html": [
       "<div>\n",
       "<style scoped>\n",
       "    .dataframe tbody tr th:only-of-type {\n",
       "        vertical-align: middle;\n",
       "    }\n",
       "\n",
       "    .dataframe tbody tr th {\n",
       "        vertical-align: top;\n",
       "    }\n",
       "\n",
       "    .dataframe thead th {\n",
       "        text-align: right;\n",
       "    }\n",
       "</style>\n",
       "<table border=\"1\" class=\"dataframe\">\n",
       "  <thead>\n",
       "    <tr style=\"text-align: right;\">\n",
       "      <th></th>\n",
       "      <th>order_id</th>\n",
       "      <th>user_id</th>\n",
       "      <th>order_number</th>\n",
       "      <th>order_dow</th>\n",
       "      <th>order_hour_of_day</th>\n",
       "      <th>days_since_prior_order</th>\n",
       "    </tr>\n",
       "  </thead>\n",
       "  <tbody>\n",
       "  </tbody>\n",
       "</table>\n",
       "</div>"
      ],
      "text/plain": [
       "Empty DataFrame\n",
       "Columns: [order_id, user_id, order_number, order_dow, order_hour_of_day, days_since_prior_order]\n",
       "Index: []"
      ]
     },
     "execution_count": 32,
     "metadata": {},
     "output_type": "execute_result"
    }
   ],
   "source": [
    "# use query:\n",
    "insta_orders.query('days_since_prior_order != days_since_prior_order and order_number != 1')"
   ]
  },
  {
   "cell_type": "markdown",
   "metadata": {},
   "source": [
    "<a id='order_products_two'></a>\n",
    "### `order_products` data frame"
   ]
  },
  {
   "cell_type": "code",
   "execution_count": 33,
   "metadata": {},
   "outputs": [
    {
     "name": "stdout",
     "output_type": "stream",
     "text": [
      "1.0\n",
      "64.0\n"
     ]
    }
   ],
   "source": [
    "# What are the min and max values in this column?\n",
    "print(order_products['add_to_cart_order'].min())\n",
    "print(order_products['add_to_cart_order'].max())"
   ]
  },
  {
   "cell_type": "markdown",
   "metadata": {},
   "source": [
    "For the `add_to_cart_order`, the min value is 1, and max value is 64."
   ]
  },
  {
   "cell_type": "code",
   "execution_count": 34,
   "metadata": {},
   "outputs": [],
   "source": [
    "# Save all order IDs with at least one missing value in 'add_to_cart_order'\n",
    "missing_atco = order_products[order_products['add_to_cart_order'].isna()]['order_id']"
   ]
  },
  {
   "cell_type": "code",
   "execution_count": 35,
   "metadata": {},
   "outputs": [
    {
     "name": "stdout",
     "output_type": "stream",
     "text": [
      "61355      63\n",
      "3308010    51\n",
      "2136777    44\n",
      "171934     40\n",
      "1959075    34\n",
      "           ..\n",
      "888470      1\n",
      "2621907     1\n",
      "2729254     1\n",
      "9310        1\n",
      "2170451     1\n",
      "Name: order_id, Length: 70, dtype: int64\n"
     ]
    }
   ],
   "source": [
    "# Do all orders with missing values have more than 64 products?\n",
    "print(missing_atco.value_counts())"
   ]
  },
  {
   "cell_type": "markdown",
   "metadata": {},
   "source": [
    "All orders do not exceed more than 64 products."
   ]
  },
  {
   "cell_type": "code",
   "execution_count": 36,
   "metadata": {},
   "outputs": [
    {
     "name": "stdout",
     "output_type": "stream",
     "text": [
      "<class 'pandas.core.frame.DataFrame'>\n",
      "RangeIndex: 4545007 entries, 0 to 4545006\n",
      "Data columns (total 4 columns):\n",
      " #   Column             Non-Null Count    Dtype  \n",
      "---  ------             --------------    -----  \n",
      " 0   order_id           4545007 non-null  int64  \n",
      " 1   product_id         4545007 non-null  int64  \n",
      " 2   add_to_cart_order  4544171 non-null  float64\n",
      " 3   reordered          4545007 non-null  int64  \n",
      "dtypes: float64(1), int64(3)\n",
      "memory usage: 138.7 MB\n"
     ]
    }
   ],
   "source": [
    "order_products.info(show_counts=True)"
   ]
  },
  {
   "cell_type": "code",
   "execution_count": 37,
   "metadata": {},
   "outputs": [
    {
     "name": "stdout",
     "output_type": "stream",
     "text": [
      "836\n"
     ]
    },
    {
     "data": {
      "text/html": [
       "<div>\n",
       "<style scoped>\n",
       "    .dataframe tbody tr th:only-of-type {\n",
       "        vertical-align: middle;\n",
       "    }\n",
       "\n",
       "    .dataframe tbody tr th {\n",
       "        vertical-align: top;\n",
       "    }\n",
       "\n",
       "    .dataframe thead th {\n",
       "        text-align: right;\n",
       "    }\n",
       "</style>\n",
       "<table border=\"1\" class=\"dataframe\">\n",
       "  <thead>\n",
       "    <tr style=\"text-align: right;\">\n",
       "      <th></th>\n",
       "      <th>order_id</th>\n",
       "      <th>product_id</th>\n",
       "      <th>add_to_cart_order</th>\n",
       "      <th>reordered</th>\n",
       "    </tr>\n",
       "  </thead>\n",
       "  <tbody>\n",
       "    <tr>\n",
       "      <th>sum</th>\n",
       "      <td>0.0</td>\n",
       "      <td>0.0</td>\n",
       "      <td>836.000000</td>\n",
       "      <td>0.0</td>\n",
       "    </tr>\n",
       "    <tr>\n",
       "      <th>mean</th>\n",
       "      <td>0.0</td>\n",
       "      <td>0.0</td>\n",
       "      <td>0.000184</td>\n",
       "      <td>0.0</td>\n",
       "    </tr>\n",
       "  </tbody>\n",
       "</table>\n",
       "</div>"
      ],
      "text/plain": [
       "      order_id  product_id  add_to_cart_order  reordered\n",
       "sum        0.0         0.0         836.000000        0.0\n",
       "mean       0.0         0.0           0.000184        0.0"
      ]
     },
     "execution_count": 37,
     "metadata": {},
     "output_type": "execute_result"
    }
   ],
   "source": [
    "# Sum up the total missing in add_to_cart_order\n",
    "total_missing = order_products['add_to_cart_order'].isna().sum()\n",
    "print(total_missing)\n",
    "\n",
    "# Reviewer's suggested method to use agg sum and mean\n",
    "order_products.isna().agg(('sum', 'mean'))\n",
    "\n",
    "# Replace missing values with 999 and convert column to integer type\n",
    "#order_products['add_to_cart_order'] = order_products['add_to_cart_order'].fillna(999).astype('int')\n",
    "#order_products.info(show_counts=True)"
   ]
  },
  {
   "cell_type": "markdown",
   "metadata": {},
   "source": [
    "There are 836 missing 'add_to_card_order' values, which is a very tiny fraction compared to the whole dataset. 836 / 4545007 = 0.000184 or 0.018% of the data."
   ]
  },
  {
   "cell_type": "markdown",
   "metadata": {},
   "source": [
    "<a id='A'></a>\n",
    "# [A] Tasks"
   ]
  },
  {
   "cell_type": "markdown",
   "metadata": {},
   "source": [
    "### [A1] Verify that the `'order_hour_of_day'` and `'order_dow'` values in the `orders` tables are sensible (i.e. `'order_hour_of_day'` ranges from 0 to 23 and `'order_dow'` ranges from 0 to 6)"
   ]
  },
  {
   "cell_type": "code",
   "execution_count": 38,
   "metadata": {},
   "outputs": [
    {
     "name": "stdout",
     "output_type": "stream",
     "text": [
      "0\n",
      "23\n",
      "The range for `order_hour_of_day` is  23\n"
     ]
    }
   ],
   "source": [
    "# Checking range of 'order_hour_of_day'\n",
    "print(insta_orders['order_hour_of_day'].min())\n",
    "print(insta_orders['order_hour_of_day'].max())\n",
    "range_hod = insta_orders['order_hour_of_day'].max() - insta_orders['order_hour_of_day'].min()\n",
    "print('The range for `order_hour_of_day` is ', range_hod)"
   ]
  },
  {
   "cell_type": "code",
   "execution_count": 39,
   "metadata": {},
   "outputs": [
    {
     "name": "stdout",
     "output_type": "stream",
     "text": [
      "0\n",
      "6\n",
      "The range of `order_dow` is  6\n"
     ]
    }
   ],
   "source": [
    "# Checking range of 'order_dow'\n",
    "print(insta_orders['order_dow'].min())\n",
    "print(insta_orders['order_dow'].max())\n",
    "range_dow = insta_orders['order_dow'].max() - insta_orders['order_dow'].min()\n",
    "print('The range of `order_dow` is ', range_dow)"
   ]
  },
  {
   "cell_type": "markdown",
   "metadata": {},
   "source": [
    "`order_hour_of_day` is verified to range from a min value of 0 to a max value of 23. This represents each hour of a day and makes sense for this data set.\n",
    "\n",
    "`order_dow` is verified to range from a min value of 0 to a max value of 6. The value represents each day of the week, Monday, Tuesday, Wednesday, etc., and is valid for this data set."
   ]
  },
  {
   "cell_type": "code",
   "execution_count": 40,
   "metadata": {},
   "outputs": [
    {
     "data": {
      "text/plain": [
       "[0, 1, 2, 3, 4, 5, 6]"
      ]
     },
     "execution_count": 40,
     "metadata": {},
     "output_type": "execute_result"
    }
   ],
   "source": [
    "sorted(insta_orders['order_dow'].unique())"
   ]
  },
  {
   "cell_type": "markdown",
   "metadata": {},
   "source": [
    "### [A2] What time of day do people shop for groceries?\n",
    "Create a plot that shows how many people place orders for each hour of the day."
   ]
  },
  {
   "cell_type": "code",
   "execution_count": 41,
   "metadata": {},
   "outputs": [
    {
     "name": "stdout",
     "output_type": "stream",
     "text": [
      "order_hour_of_day\n",
      "0      3180\n",
      "1      1763\n",
      "2       989\n",
      "3       770\n",
      "4       765\n",
      "5      1371\n",
      "6      4215\n",
      "7     13043\n",
      "8     25024\n",
      "9     35896\n",
      "10    40578\n",
      "11    40032\n",
      "12    38034\n",
      "13    39007\n",
      "14    39631\n",
      "15    39789\n",
      "16    38112\n",
      "17    31930\n",
      "18    25510\n",
      "19    19547\n",
      "20    14624\n",
      "21    11019\n",
      "22     8512\n",
      "23     5611\n",
      "Name: order_id, dtype: int64\n"
     ]
    }
   ],
   "source": [
    "# Count the number of orders per hour of the day\n",
    "orders_placed_timeofday = insta_orders.groupby('order_hour_of_day')['order_id'].count()\n",
    "print(orders_placed_timeofday)"
   ]
  },
  {
   "cell_type": "code",
   "execution_count": 42,
   "metadata": {},
   "outputs": [
    {
     "data": {
      "image/png": "[encoded data removed]",
      "text/plain": [
       "<Figure size 576x432 with 1 Axes>"
      ]
     },
     "metadata": {
      "needs_background": "light"
     },
     "output_type": "display_data"
    }
   ],
   "source": [
    "# Plot as a bar chart\n",
    "orders_placed_timeofday.plot(kind='bar',\n",
    "                            rot=45,\n",
    "                            xlabel='Hour of Day',\n",
    "                            ylabel='Number of Orders',\n",
    "                            figsize=[8,6],\n",
    "                            title='Order Placed By Time of Day')\n",
    "plt.show()"
   ]
  },
  {
   "cell_type": "markdown",
   "metadata": {},
   "source": [
    "Based from this plot, most people shop for groceries around 10 am through 3 or 4 PM. \n",
    "\n",
    "We see that the orders are very low or quiet after midnight (from 0-5), which makes sense since people are sleeping and likely stores are closed unable to take orders. As morning starts, there are the early morning shoppers which starts the influx of orders. This rises to a peaks toward the late morning and holds constant until the afternoon. There is then a steady decline of orders throughout the evening."
   ]
  },
  {
   "attachments": {},
   "cell_type": "markdown",
   "metadata": {},
   "source": [
    "### [A3] What day of the week do people shop for groceries?"
   ]
  },
  {
   "cell_type": "code",
   "execution_count": 43,
   "metadata": {},
   "outputs": [
    {
     "name": "stdout",
     "output_type": "stream",
     "text": [
      "order_dow\n",
      "0    84090\n",
      "1    82185\n",
      "2    65833\n",
      "3    60897\n",
      "4    59810\n",
      "5    63488\n",
      "6    62649\n",
      "Name: order_id, dtype: int64\n"
     ]
    }
   ],
   "source": [
    "# Count the number of orders per day of the week\n",
    "orders_placed_dow = insta_orders.groupby('order_dow')['order_id'].count()\n",
    "print(orders_placed_dow)"
   ]
  },
  {
   "cell_type": "code",
   "execution_count": 44,
   "metadata": {},
   "outputs": [
    {
     "data": {
      "image/png": "[encoded data removed]",
      "text/plain": [
       "<Figure size 504x360 with 1 Axes>"
      ]
     },
     "metadata": {
      "needs_background": "light"
     },
     "output_type": "display_data"
    }
   ],
   "source": [
    "# Plot as a bar chart\n",
    "orders_placed_dow.plot(kind='bar',\n",
    "                       rot=45,\n",
    "                       xlabel='Day of the Week',\n",
    "                       ylabel='Number of Orders',\n",
    "                       figsize=[7,5],\n",
    "                       title='Orders Placed By Day of the Week')\n",
    "plt.show()"
   ]
  },
  {
   "cell_type": "markdown",
   "metadata": {},
   "source": [
    "From this plot, since previously it wasn't specified which integer corresponds to which day of the week, it can be inferred that 0 and 1 represents Saturday and Sunday, while 2-6 represents the weekdays. This is because more orders are generally placed on weekends over weekdays. This would make the starting day as Saturday (0) through Friday (6).\n",
    "\n",
    "Broadly speaking, people tend to shop much more on the weekends over the weekdays. People placed more orders on Saturdays over Sundays. When comparing between the weekdays, Wednesday is the weakest shopping day, while Monday has the highest."
   ]
  },
  {
   "attachments": {},
   "cell_type": "markdown",
   "metadata": {},
   "source": [
    "### [A4] How long do people wait until placing another order?"
   ]
  },
  {
   "cell_type": "code",
   "execution_count": 45,
   "metadata": {},
   "outputs": [
    {
     "name": "stdout",
     "output_type": "stream",
     "text": [
      "30.0\n"
     ]
    }
   ],
   "source": [
    "# Find the max number in the data of days since last order\n",
    "print(insta_orders['days_since_prior_order'].max())"
   ]
  },
  {
   "cell_type": "code",
   "execution_count": 46,
   "metadata": {},
   "outputs": [
    {
     "name": "stdout",
     "output_type": "stream",
     "text": [
      "days_since_prior_order\n",
      "0.0      9589\n",
      "1.0     20179\n",
      "2.0     27138\n",
      "3.0     30224\n",
      "4.0     31006\n",
      "5.0     30096\n",
      "6.0     33930\n",
      "7.0     44577\n",
      "8.0     25361\n",
      "9.0     16753\n",
      "10.0    13309\n",
      "11.0    11467\n",
      "12.0    10658\n",
      "13.0    11737\n",
      "14.0    13992\n",
      "15.0     9416\n",
      "16.0     6587\n",
      "17.0     5498\n",
      "18.0     4971\n",
      "19.0     4939\n",
      "20.0     5302\n",
      "21.0     6448\n",
      "22.0     4514\n",
      "23.0     3337\n",
      "24.0     3015\n",
      "25.0     2711\n",
      "26.0     2640\n",
      "27.0     2986\n",
      "28.0     3745\n",
      "29.0     2673\n",
      "30.0    51337\n",
      "Name: order_id, dtype: int64\n"
     ]
    }
   ],
   "source": [
    "# Count the number of orders per days since prior order\n",
    "days_spo = insta_orders.groupby('days_since_prior_order')['order_id'].count()\n",
    "print(days_spo)"
   ]
  },
  {
   "cell_type": "code",
   "execution_count": 47,
   "metadata": {},
   "outputs": [
    {
     "data": {
      "image/png": "[encoded data removed]",
      "text/plain": [
       "<Figure size 720x432 with 1 Axes>"
      ]
     },
     "metadata": {
      "needs_background": "light"
     },
     "output_type": "display_data"
    }
   ],
   "source": [
    "# Plot as a bar chart\n",
    "days_spo.plot(kind='bar',\n",
    "              xlabel='Days since prior order',\n",
    "              ylabel='Number of orders placed',\n",
    "              figsize=[10,6],\n",
    "              rot=45,\n",
    "              title='Orders Placed By Days Since Prior Order')\n",
    "plt.show()"
   ]
  },
  {
   "cell_type": "markdown",
   "metadata": {},
   "source": [
    "Days since prior order has a minimum value of 0 and a maximum value of 30. A min value of 0 suggests that their last order was placed on the same day as the data collection. For the maximum value of 30, because of the large amount of orders placed in this category, it suggests that it is more appropriate to say the max value represents the sum of 30+ days since prior order. \n",
    "\n",
    "From the graph, most people would have at least up to one week before placing another order. If not, after day 7/8, the number of orders placed starts going down for placing another order. Behaviorally, this is reasonable as most people replenish the groceries weekly, and this fits in this timeline."
   ]
  },
  {
   "cell_type": "markdown",
   "metadata": {},
   "source": [
    "<a id='B'></a>\n",
    "# [B] Task"
   ]
  },
  {
   "cell_type": "markdown",
   "metadata": {},
   "source": [
    "### [B1] Is there a difference in `'order_hour_of_day'` distributions on Wednesdays and Saturdays? Plot the histograms for both days and describe the differences that you see."
   ]
  },
  {
   "cell_type": "code",
   "execution_count": 48,
   "metadata": {},
   "outputs": [],
   "source": [
    "# Filter by orders for Saturdays (dow=0)\n",
    "sat_orders = insta_orders.query(\"order_dow == 0\")['order_hour_of_day']"
   ]
  },
  {
   "cell_type": "code",
   "execution_count": 49,
   "metadata": {},
   "outputs": [],
   "source": [
    "# Filter by orders for Wednesdays (dow=4)\n",
    "wed_orders = insta_orders.query(\"order_dow == 4\")['order_hour_of_day']"
   ]
  },
  {
   "cell_type": "code",
   "execution_count": 50,
   "metadata": {},
   "outputs": [
    {
     "data": {
      "image/png": "[encoded data removed]",
      "text/plain": [
       "<Figure size 432x288 with 1 Axes>"
      ]
     },
     "metadata": {
      "needs_background": "light"
     },
     "output_type": "display_data"
    }
   ],
   "source": [
    "sat_orders.plot(kind='hist', bins=24)\n",
    "wed_orders.plot(kind='hist', bins=24, alpha=0.7)\n",
    "plt.legend(['Saturday', 'Wednesday'])\n",
    "plt.xlabel('Time of Day')\n",
    "plt.title('Saturday vs Wednesday Order Distribution')\n",
    "plt.show()"
   ]
  },
  {
   "cell_type": "markdown",
   "metadata": {},
   "source": [
    "There is no apparent distribution differences between orders placed on Wednesdays or Saturdays. The peak ordering times are look generally similar. The main difference is the volume of orders, as there are many more orders placed on Saturday than on Wednesday."
   ]
  },
  {
   "attachments": {},
   "cell_type": "markdown",
   "metadata": {},
   "source": [
    "### [B2] What's the distribution for the number of orders per customer?"
   ]
  },
  {
   "cell_type": "code",
   "execution_count": 51,
   "metadata": {},
   "outputs": [],
   "source": [
    "# Count the number of unique order_id per user_id\n",
    "cust_orders = insta_orders.groupby('user_id')['order_id'].nunique()"
   ]
  },
  {
   "cell_type": "code",
   "execution_count": 52,
   "metadata": {},
   "outputs": [
    {
     "data": {
      "image/png": "[encoded data removed]",
      "text/plain": [
       "<Figure size 432x288 with 1 Axes>"
      ]
     },
     "metadata": {
      "needs_background": "light"
     },
     "output_type": "display_data"
    }
   ],
   "source": [
    "# Plot distribution for number of orders per customer\n",
    "cust_orders.hist(bins=27)\n",
    "plt.xlabel('Number of orders')\n",
    "plt.ylabel('Frequency')\n",
    "plt.title('Number of Orders Per Customer')\n",
    "plt.show()"
   ]
  },
  {
   "cell_type": "markdown",
   "metadata": {},
   "source": [
    "Max number of orders per customer is 28. "
   ]
  },
  {
   "cell_type": "markdown",
   "metadata": {},
   "source": [
    "### [B3] What are the top 20 popular products (display their id and name)?"
   ]
  },
  {
   "cell_type": "code",
   "execution_count": 53,
   "metadata": {},
   "outputs": [
    {
     "name": "stdout",
     "output_type": "stream",
     "text": [
      "<class 'pandas.core.frame.DataFrame'>\n",
      "Int64Index: 4545007 entries, 0 to 4545006\n",
      "Data columns (total 7 columns):\n",
      " #   Column             Dtype  \n",
      "---  ------             -----  \n",
      " 0   order_id           int64  \n",
      " 1   product_id         int64  \n",
      " 2   add_to_cart_order  float64\n",
      " 3   reordered          int64  \n",
      " 4   product_name       object \n",
      " 5   aisle_id           int64  \n",
      " 6   department_id      int64  \n",
      "dtypes: float64(1), int64(5), object(1)\n",
      "memory usage: 277.4+ MB\n"
     ]
    }
   ],
   "source": [
    "# Merge order_products and products file on product_id to collect the product_name\n",
    "merged_orders = order_products.merge(products,\n",
    "                             how='left',\n",
    "                             on='product_id')\n",
    "merged_orders.info()"
   ]
  },
  {
   "cell_type": "code",
   "execution_count": 54,
   "metadata": {},
   "outputs": [
    {
     "name": "stdout",
     "output_type": "stream",
     "text": [
      "<class 'pandas.core.frame.DataFrame'>\n",
      "Int64Index: 4545007 entries, 0 to 4545006\n",
      "Data columns (total 2 columns):\n",
      " #   Column        Dtype \n",
      "---  ------        ----- \n",
      " 0   product_id    int64 \n",
      " 1   product_name  object\n",
      "dtypes: int64(1), object(1)\n",
      "memory usage: 104.0+ MB\n"
     ]
    }
   ],
   "source": [
    "# Remove unrelated columns\n",
    "merged_clean = merged_orders.drop(['order_id', 'add_to_cart_order', 'reordered', 'aisle_id', 'department_id'], axis='columns')\n",
    "\n",
    "merged_clean.info()"
   ]
  },
  {
   "cell_type": "code",
   "execution_count": 55,
   "metadata": {},
   "outputs": [
    {
     "name": "stdout",
     "output_type": "stream",
     "text": [
      "[24852, 13176, 21137, 21903, 47209, 47766, 47626, 16797, 26209, 27845, 27966, 22935, 24964, 45007, 39275, 49683, 28204, 5876, 8277, 40706]\n"
     ]
    }
   ],
   "source": [
    "# Store the top 20 ordered items index\n",
    "top20_index = merged_clean['product_id'].value_counts()[0:20].index.tolist()\n",
    "print(top20_index)"
   ]
  },
  {
   "cell_type": "code",
   "execution_count": 56,
   "metadata": {},
   "outputs": [],
   "source": [
    "# Returns the given index number (rank) or the product_id in the index\n",
    "def ranking(product):\n",
    "    if product in top20_index:\n",
    "        return top20_index.index(product) + 1\n",
    "    else:\n",
    "        return 99"
   ]
  },
  {
   "cell_type": "code",
   "execution_count": 57,
   "metadata": {},
   "outputs": [],
   "source": [
    "# Creates new ranking column\n",
    "merged_clean['ranking'] = merged_clean['product_id'].apply(ranking)"
   ]
  },
  {
   "cell_type": "code",
   "execution_count": 58,
   "metadata": {},
   "outputs": [],
   "source": [
    "# Removes duplicate product_id rows\n",
    "merged_clean = merged_clean.drop_duplicates(subset='product_id').reset_index(drop=True)"
   ]
  },
  {
   "cell_type": "code",
   "execution_count": 59,
   "metadata": {},
   "outputs": [
    {
     "name": "stdout",
     "output_type": "stream",
     "text": [
      "         product_id              product_name\n",
      "ranking                                      \n",
      "1             24852                    Banana\n",
      "2             13176    Bag of Organic Bananas\n",
      "3             21137      Organic Strawberries\n",
      "4             21903      Organic Baby Spinach\n",
      "5             47209      Organic Hass Avocado\n",
      "6             47766           Organic Avocado\n",
      "7             47626               Large Lemon\n",
      "8             16797              Strawberries\n",
      "9             26209                     Limes\n",
      "10            27845        Organic Whole Milk\n",
      "11            27966       Organic Raspberries\n",
      "12            22935      Organic Yellow Onion\n",
      "13            24964            Organic Garlic\n",
      "14            45007          Organic Zucchini\n",
      "15            39275       Organic Blueberries\n",
      "16            49683            Cucumber Kirby\n",
      "17            28204        Organic Fuji Apple\n",
      "18             5876             Organic Lemon\n",
      "19             8277  Apple Honeycrisp Organic\n",
      "20            40706    Organic Grape Tomatoes\n"
     ]
    }
   ],
   "source": [
    "a = merged_clean\n",
    "a.set_index('ranking', inplace=True)\n",
    "print(a.sort_index().head(20))"
   ]
  },
  {
   "cell_type": "markdown",
   "metadata": {},
   "source": [
    "Top 20 ordered items include a lot of fruits and vegetables!"
   ]
  },
  {
   "cell_type": "code",
   "execution_count": 60,
   "metadata": {},
   "outputs": [
    {
     "data": {
      "text/html": [
       "<div>\n",
       "<style scoped>\n",
       "    .dataframe tbody tr th:only-of-type {\n",
       "        vertical-align: middle;\n",
       "    }\n",
       "\n",
       "    .dataframe tbody tr th {\n",
       "        vertical-align: top;\n",
       "    }\n",
       "\n",
       "    .dataframe thead th {\n",
       "        text-align: right;\n",
       "    }\n",
       "</style>\n",
       "<table border=\"1\" class=\"dataframe\">\n",
       "  <thead>\n",
       "    <tr style=\"text-align: right;\">\n",
       "      <th></th>\n",
       "      <th>product_id</th>\n",
       "      <th>product_name</th>\n",
       "      <th>number_of_orders</th>\n",
       "    </tr>\n",
       "  </thead>\n",
       "  <tbody>\n",
       "    <tr>\n",
       "      <th>22808</th>\n",
       "      <td>24852</td>\n",
       "      <td>Banana</td>\n",
       "      <td>66050</td>\n",
       "    </tr>\n",
       "    <tr>\n",
       "      <th>12025</th>\n",
       "      <td>13176</td>\n",
       "      <td>Bag of Organic Bananas</td>\n",
       "      <td>53297</td>\n",
       "    </tr>\n",
       "    <tr>\n",
       "      <th>19370</th>\n",
       "      <td>21137</td>\n",
       "      <td>Organic Strawberries</td>\n",
       "      <td>37039</td>\n",
       "    </tr>\n",
       "    <tr>\n",
       "      <th>20077</th>\n",
       "      <td>21903</td>\n",
       "      <td>Organic Baby Spinach</td>\n",
       "      <td>33971</td>\n",
       "    </tr>\n",
       "    <tr>\n",
       "      <th>43271</th>\n",
       "      <td>47209</td>\n",
       "      <td>Organic Hass Avocado</td>\n",
       "      <td>29773</td>\n",
       "    </tr>\n",
       "    <tr>\n",
       "      <th>43788</th>\n",
       "      <td>47766</td>\n",
       "      <td>Organic Avocado</td>\n",
       "      <td>24689</td>\n",
       "    </tr>\n",
       "    <tr>\n",
       "      <th>43663</th>\n",
       "      <td>47626</td>\n",
       "      <td>Large Lemon</td>\n",
       "      <td>21495</td>\n",
       "    </tr>\n",
       "    <tr>\n",
       "      <th>15364</th>\n",
       "      <td>16797</td>\n",
       "      <td>Strawberries</td>\n",
       "      <td>20018</td>\n",
       "    </tr>\n",
       "    <tr>\n",
       "      <th>24047</th>\n",
       "      <td>26209</td>\n",
       "      <td>Limes</td>\n",
       "      <td>19690</td>\n",
       "    </tr>\n",
       "    <tr>\n",
       "      <th>25556</th>\n",
       "      <td>27845</td>\n",
       "      <td>Organic Whole Milk</td>\n",
       "      <td>19600</td>\n",
       "    </tr>\n",
       "    <tr>\n",
       "      <th>25666</th>\n",
       "      <td>27966</td>\n",
       "      <td>Organic Raspberries</td>\n",
       "      <td>19197</td>\n",
       "    </tr>\n",
       "    <tr>\n",
       "      <th>21025</th>\n",
       "      <td>22935</td>\n",
       "      <td>Organic Yellow Onion</td>\n",
       "      <td>15898</td>\n",
       "    </tr>\n",
       "    <tr>\n",
       "      <th>22908</th>\n",
       "      <td>24964</td>\n",
       "      <td>Organic Garlic</td>\n",
       "      <td>15292</td>\n",
       "    </tr>\n",
       "    <tr>\n",
       "      <th>41244</th>\n",
       "      <td>45007</td>\n",
       "      <td>Organic Zucchini</td>\n",
       "      <td>14584</td>\n",
       "    </tr>\n",
       "    <tr>\n",
       "      <th>35996</th>\n",
       "      <td>39275</td>\n",
       "      <td>Organic Blueberries</td>\n",
       "      <td>13879</td>\n",
       "    </tr>\n",
       "    <tr>\n",
       "      <th>45561</th>\n",
       "      <td>49683</td>\n",
       "      <td>Cucumber Kirby</td>\n",
       "      <td>13675</td>\n",
       "    </tr>\n",
       "    <tr>\n",
       "      <th>25889</th>\n",
       "      <td>28204</td>\n",
       "      <td>Organic Fuji Apple</td>\n",
       "      <td>12544</td>\n",
       "    </tr>\n",
       "    <tr>\n",
       "      <th>5375</th>\n",
       "      <td>5876</td>\n",
       "      <td>Organic Lemon</td>\n",
       "      <td>12232</td>\n",
       "    </tr>\n",
       "    <tr>\n",
       "      <th>7543</th>\n",
       "      <td>8277</td>\n",
       "      <td>Apple Honeycrisp Organic</td>\n",
       "      <td>11993</td>\n",
       "    </tr>\n",
       "    <tr>\n",
       "      <th>37301</th>\n",
       "      <td>40706</td>\n",
       "      <td>Organic Grape Tomatoes</td>\n",
       "      <td>11781</td>\n",
       "    </tr>\n",
       "  </tbody>\n",
       "</table>\n",
       "</div>"
      ],
      "text/plain": [
       "       product_id              product_name  number_of_orders\n",
       "22808       24852                    Banana             66050\n",
       "12025       13176    Bag of Organic Bananas             53297\n",
       "19370       21137      Organic Strawberries             37039\n",
       "20077       21903      Organic Baby Spinach             33971\n",
       "43271       47209      Organic Hass Avocado             29773\n",
       "43788       47766           Organic Avocado             24689\n",
       "43663       47626               Large Lemon             21495\n",
       "15364       16797              Strawberries             20018\n",
       "24047       26209                     Limes             19690\n",
       "25556       27845        Organic Whole Milk             19600\n",
       "25666       27966       Organic Raspberries             19197\n",
       "21025       22935      Organic Yellow Onion             15898\n",
       "22908       24964            Organic Garlic             15292\n",
       "41244       45007          Organic Zucchini             14584\n",
       "35996       39275       Organic Blueberries             13879\n",
       "45561       49683            Cucumber Kirby             13675\n",
       "25889       28204        Organic Fuji Apple             12544\n",
       "5375         5876             Organic Lemon             12232\n",
       "7543         8277  Apple Honeycrisp Organic             11993\n",
       "37301       40706    Organic Grape Tomatoes             11781"
      ]
     },
     "execution_count": 60,
     "metadata": {},
     "output_type": "execute_result"
    }
   ],
   "source": [
    "(order_products\n",
    " .merge(products, how='left', on='product_id')\n",
    " \n",
    " # let's group by id and product name: \n",
    " .groupby(['product_id','product_name'])\n",
    " \n",
    " # and calculate the number of orders: \n",
    " .agg(number_of_orders = ('order_id','count'))\n",
    " \n",
    " # reset index\n",
    " .reset_index()\n",
    " \n",
    " # sort values: \n",
    " .sort_values(by = 'number_of_orders', ascending = False)\n",
    ").head(20)"
   ]
  },
  {
   "cell_type": "markdown",
   "metadata": {},
   "source": [
    "<a id='C'></a>\n",
    "# [C] Tasks"
   ]
  },
  {
   "cell_type": "markdown",
   "metadata": {},
   "source": [
    "### [C1] How many items do people typically buy in one order? What does the distribution look like?"
   ]
  },
  {
   "cell_type": "code",
   "execution_count": 61,
   "metadata": {},
   "outputs": [
    {
     "name": "stdout",
     "output_type": "stream",
     "text": [
      "The minimum item per order is 1 and the maximum item per order is 127\n"
     ]
    },
    {
     "data": {
      "image/png": "[encoded data removed]",
      "text/plain": [
       "<Figure size 432x288 with 1 Axes>"
      ]
     },
     "metadata": {
      "needs_background": "light"
     },
     "output_type": "display_data"
    }
   ],
   "source": [
    "# Counting the number of items per unique order_id\n",
    "items_per_order = order_products.groupby('order_id')['product_id'].count()\n",
    "\n",
    "ipo_min = items_per_order.min()\n",
    "ipo_max = items_per_order.max()\n",
    "ipo_mean = items_per_order.mean()\n",
    "print(f'The minimum item per order is {ipo_min} and the maximum item per order is {ipo_max}')\n",
    "\n",
    "# Plotting distribution of items per order\n",
    "items_per_order.hist(bins=128)\n",
    "plt.xlabel('Items per order')\n",
    "plt.ylabel('Total orders')\n",
    "plt.title('Number of Items Per Order')\n",
    "plt.show()"
   ]
  },
  {
   "cell_type": "markdown",
   "metadata": {},
   "source": [
    "### [C2] What are the top 20 items that are reordered most frequently (display their names and product IDs)?"
   ]
  },
  {
   "cell_type": "code",
   "execution_count": 62,
   "metadata": {},
   "outputs": [
    {
     "name": "stdout",
     "output_type": "stream",
     "text": [
      "<class 'pandas.core.frame.DataFrame'>\n",
      "Int64Index: 4545007 entries, 0 to 4545006\n",
      "Data columns (total 4 columns):\n",
      " #   Column        Dtype \n",
      "---  ------        ----- \n",
      " 0   order_id      int64 \n",
      " 1   product_id    int64 \n",
      " 2   reordered     int64 \n",
      " 3   product_name  object\n",
      "dtypes: int64(3), object(1)\n",
      "memory usage: 173.4+ MB\n"
     ]
    }
   ],
   "source": [
    "# Remove unrelated columns from the merged data set \n",
    "merged_clean2 = merged_orders.drop(['add_to_cart_order', 'aisle_id', 'department_id'], axis='columns')\n",
    "\n",
    "merged_clean2.info()"
   ]
  },
  {
   "cell_type": "code",
   "execution_count": 63,
   "metadata": {},
   "outputs": [],
   "source": [
    "# Filter by reordered = 1\n",
    "reordered_list = merged_clean2.query(\"reordered == 1\")"
   ]
  },
  {
   "cell_type": "code",
   "execution_count": 64,
   "metadata": {},
   "outputs": [
    {
     "name": "stdout",
     "output_type": "stream",
     "text": [
      "                                     number_of_orders\n",
      "product_id product_name                              \n",
      "24852      Banana                               55763\n",
      "13176      Bag of Organic Bananas               44450\n",
      "21137      Organic Strawberries                 28639\n",
      "21903      Organic Baby Spinach                 26233\n",
      "47209      Organic Hass Avocado                 23629\n",
      "47766      Organic Avocado                      18743\n",
      "27845      Organic Whole Milk                   16251\n",
      "47626      Large Lemon                          15044\n",
      "27966      Organic Raspberries                  14748\n",
      "16797      Strawberries                         13945\n",
      "26209      Limes                                13327\n",
      "22935      Organic Yellow Onion                 11145\n",
      "24964      Organic Garlic                       10411\n",
      "45007      Organic Zucchini                     10076\n",
      "49683      Cucumber Kirby                        9538\n",
      "28204      Organic Fuji Apple                    8989\n",
      "8277       Apple Honeycrisp Organic              8836\n",
      "39275      Organic Blueberries                   8799\n",
      "5876       Organic Lemon                         8412\n",
      "49235      Organic Half & Half                   8389\n"
     ]
    }
   ],
   "source": [
    "# Group by product_id and product_name, sort by number of orders\n",
    "grp = reordered_list.groupby(['product_id', 'product_name'])\n",
    "print(grp.agg(number_of_orders = ('order_id', 'count')).sort_values(by='number_of_orders', ascending=False).head(20))"
   ]
  },
  {
   "cell_type": "markdown",
   "metadata": {},
   "source": [
    "The top 20 reordered list, is very similar to the top 20 popular items overall."
   ]
  },
  {
   "attachments": {},
   "cell_type": "markdown",
   "metadata": {},
   "source": [
    "### [C3] For each product, what proportion of its orders are reorders?"
   ]
  },
  {
   "cell_type": "code",
   "execution_count": 65,
   "metadata": {},
   "outputs": [
    {
     "name": "stdout",
     "output_type": "stream",
     "text": [
      "            order_id                                       product_name  \\\n",
      "product_id                                                                \n",
      "14721         938604                            Bone Strength Take Care   \n",
      "20949        2318804                           Vanilla Sandwich Cookies   \n",
      "6723         1130818                                   Palmiers- Petite   \n",
      "6732          971050                  Naturally Sparkling Mineral Water   \n",
      "45088        2374782  California Dill Pollen & Garlic Goat Cheese & ...   \n",
      "45078         917112                                       Pomegranatea   \n",
      "21016        1688632       Parchment Lined 8 in x 3.75 in x 2.5 in Pans   \n",
      "21005          72892                        Peanut Butter Pie Ice Cream   \n",
      "35192        1542460                         Chocolate Soy Milk Singles   \n",
      "35197        2964621  Mocha Chocolate Chip  Organic Non-Dairy Frozen...   \n",
      "6810          804500                        Raspberry Goji Paleo Prints   \n",
      "45040        2090094                                 Head Lock Mega Gel   \n",
      "45035        1711278                               Coffee Flavor Yogurt   \n",
      "27373        2751208                                     Meat Loaf Meal   \n",
      "30748        2550153                           Cheese & Garlic Croutons   \n",
      "45031        2187541                 Sugar Free Hazelnut Coffee Creamer   \n",
      "35137         574504  Superior Preference Fade-Defying Color + Shine...   \n",
      "30747        1939066                   Dentotape® Unflavored Waxed Tape   \n",
      "35228         359975                       Marvelous Muffins Baking Mix   \n",
      "35229        2053138                             Bean & Cheese Burritos   \n",
      "\n",
      "            reorder_prop  \n",
      "product_id                \n",
      "14721                1.0  \n",
      "20949                1.0  \n",
      "6723                 1.0  \n",
      "6732                 1.0  \n",
      "45088                1.0  \n",
      "45078                1.0  \n",
      "21016                1.0  \n",
      "21005                1.0  \n",
      "35192                1.0  \n",
      "35197                1.0  \n",
      "6810                 1.0  \n",
      "45040                1.0  \n",
      "45035                1.0  \n",
      "27373                1.0  \n",
      "30748                1.0  \n",
      "45031                1.0  \n",
      "35137                1.0  \n",
      "30747                1.0  \n",
      "35228                1.0  \n",
      "35229                1.0  \n",
      "         order_id  product_id  add_to_cart_order  reordered\n",
      "1526368   2318804       20949               11.0          1\n",
      "3038125    131831       20949                9.0          1\n",
      "3301353   3279010       20949                2.0          1\n",
      "         order_id  product_id  add_to_cart_order  reordered\n",
      "1334219    574504       35137               27.0          1\n"
     ]
    }
   ],
   "source": [
    "# Total of all products ordered (reordered = 1 and 0)\n",
    "total_ordered = merged_clean2.groupby('product_id')['reordered'].count() \n",
    "\n",
    "# Total for reordered items\n",
    "total_reordered = merged_clean2.groupby('product_id')['reordered'].sum()\n",
    "\n",
    "# Calculate the proportion reordered\n",
    "proportion_reordered = total_reordered / total_ordered\n",
    "\n",
    "# Removes duplicate product_id rows\n",
    "merged_clean2 = merged_clean2.drop_duplicates(subset='product_id').reset_index(drop=True).sort_values(by='product_id')\n",
    "\n",
    "# Drop reordered column\n",
    "merged_clean2 = merged_clean2.drop(['reordered'], axis='columns')\n",
    "\n",
    "# Set index as the product_id\n",
    "merged_clean2.set_index('product_id', inplace=True)\n",
    "\n",
    "# Add the proportion reordered column\n",
    "merged_clean2['reorder_prop'] = proportion_reordered\n",
    "\n",
    "# Print list of top sorted by reordered proportion\n",
    "print(merged_clean2.sort_values(by='reorder_prop', ascending=False).head(20))\n",
    "\n",
    "print(order_products.query(\"product_id == 20949\"))\n",
    "print(order_products.query(\"product_id == 35137\"))"
   ]
  },
  {
   "cell_type": "markdown",
   "metadata": {},
   "source": [
    "The above output looks weird because having a reorder ratio of 1.0 means we're missing data where the item was purchased for the first time. Looking into the data and finding the rows with these specific product_ids show that indeed only the reorders for these items are shown in the orders. Thus, even though this is a flaw in the data, I decided to remove all results with a reorder_prop of 1."
   ]
  },
  {
   "cell_type": "code",
   "execution_count": 66,
   "metadata": {},
   "outputs": [
    {
     "name": "stdout",
     "output_type": "stream",
     "text": [
      "            order_id                                       product_name  \\\n",
      "product_id                                                                \n",
      "1            1104373                         Chocolate Sandwich Cookies   \n",
      "2             228831                                   All-Seasons Salt   \n",
      "3            2851416               Robust Golden Unsweetened Oolong Tea   \n",
      "4            2528717  Smart Ones Classic Favorites Mini Rigatoni Wit...   \n",
      "7            1806224                     Pure Coconut Water With Orange   \n",
      "...              ...                                                ...   \n",
      "49690         546670                      HIGH PERFORMANCE ENERGY DRINK   \n",
      "49691        2913727                      ORIGINAL PANCAKE & WAFFLE MIX   \n",
      "49692        2628295    ORGANIC INSTANT OATMEAL LIGHT MAPLE BROWN SUGAR   \n",
      "49693         715220                             SPRING WATER BODY WASH   \n",
      "49694         289487                            BURRITO- STEAK & CHEESE   \n",
      "\n",
      "            reorder_prop  \n",
      "product_id                \n",
      "1               0.564286  \n",
      "2               0.000000  \n",
      "3               0.738095  \n",
      "4               0.510204  \n",
      "7               0.500000  \n",
      "...                  ...  \n",
      "49690           0.800000  \n",
      "49691           0.430556  \n",
      "49692           0.416667  \n",
      "49693           0.440000  \n",
      "49694           0.333333  \n",
      "\n",
      "[43764 rows x 3 columns]\n"
     ]
    }
   ],
   "source": [
    "# Filter of reorder proportions equal to 1 and select everything less than 1\n",
    "new_mergedclean = merged_clean2.query(\"reorder_prop < 1\")\n",
    "\n",
    "# Printing table\n",
    "print(new_mergedclean)"
   ]
  },
  {
   "cell_type": "code",
   "execution_count": 67,
   "metadata": {},
   "outputs": [
    {
     "data": {
      "text/html": [
       "<div>\n",
       "<style scoped>\n",
       "    .dataframe tbody tr th:only-of-type {\n",
       "        vertical-align: middle;\n",
       "    }\n",
       "\n",
       "    .dataframe tbody tr th {\n",
       "        vertical-align: top;\n",
       "    }\n",
       "\n",
       "    .dataframe thead th {\n",
       "        text-align: right;\n",
       "    }\n",
       "</style>\n",
       "<table border=\"1\" class=\"dataframe\">\n",
       "  <thead>\n",
       "    <tr style=\"text-align: right;\">\n",
       "      <th></th>\n",
       "      <th>order_id</th>\n",
       "      <th>reorder_prop</th>\n",
       "    </tr>\n",
       "  </thead>\n",
       "  <tbody>\n",
       "    <tr>\n",
       "      <th>count</th>\n",
       "      <td>4.376400e+04</td>\n",
       "      <td>43764.000000</td>\n",
       "    </tr>\n",
       "    <tr>\n",
       "      <th>mean</th>\n",
       "      <td>1.718717e+06</td>\n",
       "      <td>0.361356</td>\n",
       "    </tr>\n",
       "    <tr>\n",
       "      <th>std</th>\n",
       "      <td>9.850918e+05</td>\n",
       "      <td>0.246833</td>\n",
       "    </tr>\n",
       "    <tr>\n",
       "      <th>min</th>\n",
       "      <td>1.100000e+01</td>\n",
       "      <td>0.000000</td>\n",
       "    </tr>\n",
       "    <tr>\n",
       "      <th>25%</th>\n",
       "      <td>8.700835e+05</td>\n",
       "      <td>0.153846</td>\n",
       "    </tr>\n",
       "    <tr>\n",
       "      <th>50%</th>\n",
       "      <td>1.721617e+06</td>\n",
       "      <td>0.400000</td>\n",
       "    </tr>\n",
       "    <tr>\n",
       "      <th>75%</th>\n",
       "      <td>2.571466e+06</td>\n",
       "      <td>0.554720</td>\n",
       "    </tr>\n",
       "    <tr>\n",
       "      <th>max</th>\n",
       "      <td>3.420890e+06</td>\n",
       "      <td>0.952381</td>\n",
       "    </tr>\n",
       "  </tbody>\n",
       "</table>\n",
       "</div>"
      ],
      "text/plain": [
       "           order_id  reorder_prop\n",
       "count  4.376400e+04  43764.000000\n",
       "mean   1.718717e+06      0.361356\n",
       "std    9.850918e+05      0.246833\n",
       "min    1.100000e+01      0.000000\n",
       "25%    8.700835e+05      0.153846\n",
       "50%    1.721617e+06      0.400000\n",
       "75%    2.571466e+06      0.554720\n",
       "max    3.420890e+06      0.952381"
      ]
     },
     "execution_count": 67,
     "metadata": {},
     "output_type": "execute_result"
    }
   ],
   "source": [
    "# Statistics on the reorder column\n",
    "new_mergedclean.describe()"
   ]
  },
  {
   "cell_type": "markdown",
   "metadata": {},
   "source": [
    "We can use the table to lookup the reorder percentage given a particular product_id or product_name. From the statistics and looking at all of the items, the average rate for items have a 36.1% for reorder."
   ]
  },
  {
   "cell_type": "markdown",
   "metadata": {},
   "source": [
    "### [C4] For each customer, what proportion of their products ordered are reorders?"
   ]
  },
  {
   "cell_type": "markdown",
   "metadata": {},
   "source": [
    "The thought process here is to merge the order_products with the instacart_orders to bring in the necessary column information (user_id and reordered). Then to a similar approach as to question C3, we can groupby the user_id (unique to the customer) and calculate the proportion of reorders per item."
   ]
  },
  {
   "cell_type": "code",
   "execution_count": 68,
   "metadata": {},
   "outputs": [
    {
     "name": "stdout",
     "output_type": "stream",
     "text": [
      "<class 'pandas.core.frame.DataFrame'>\n",
      "Int64Index: 4545007 entries, 0 to 4545006\n",
      "Data columns (total 9 columns):\n",
      " #   Column                  Dtype  \n",
      "---  ------                  -----  \n",
      " 0   order_id                int64  \n",
      " 1   product_id              int64  \n",
      " 2   add_to_cart_order       float64\n",
      " 3   reordered               int64  \n",
      " 4   user_id                 int64  \n",
      " 5   order_number            int64  \n",
      " 6   order_dow               int64  \n",
      " 7   order_hour_of_day       int64  \n",
      " 8   days_since_prior_order  float64\n",
      "dtypes: float64(2), int64(7)\n",
      "memory usage: 346.8 MB\n"
     ]
    }
   ],
   "source": [
    "# Merge order_products and instacart_orders file on order_id to collect the user_id\n",
    "merged_custorders = order_products.merge(insta_orders,\n",
    "                             how='left',\n",
    "                             on='order_id')\n",
    "merged_custorders.info()"
   ]
  },
  {
   "cell_type": "code",
   "execution_count": 69,
   "metadata": {},
   "outputs": [],
   "source": [
    "# Remove unrelated columns from the merged data set \n",
    "merged_clean4 = merged_custorders.drop(['add_to_cart_order', \n",
    "                                        'order_number', \n",
    "                                        'order_dow', \n",
    "                                        'order_hour_of_day',\n",
    "                                        'days_since_prior_order'], axis='columns')"
   ]
  },
  {
   "cell_type": "code",
   "execution_count": 70,
   "metadata": {},
   "outputs": [
    {
     "name": "stdout",
     "output_type": "stream",
     "text": [
      "user_id\n",
      "2         0.038462\n",
      "4         0.000000\n",
      "5         0.666667\n",
      "6         0.000000\n",
      "7         0.928571\n",
      "            ...   \n",
      "206203    0.222222\n",
      "206206    0.714286\n",
      "206207    0.891304\n",
      "206208    0.696000\n",
      "206209    0.320000\n",
      "Name: reordered, Length: 149626, dtype: float64\n"
     ]
    }
   ],
   "source": [
    "# Total of all products ordered by user_id (reordered = 1 and 0)\n",
    "tot_ord = merged_clean4.groupby('user_id')['reordered'].count() \n",
    "\n",
    "# Total for reordered items by user_id\n",
    "tot_reord = merged_clean4.groupby('user_id')['reordered'].sum()\n",
    "\n",
    "pro_reord = tot_reord / tot_ord\n",
    "\n",
    "print(pro_reord)"
   ]
  },
  {
   "cell_type": "code",
   "execution_count": 71,
   "metadata": {},
   "outputs": [],
   "source": [
    "# Removes duplicate product_id rows\n",
    "merged_clean4 = merged_clean4.drop_duplicates(subset='user_id').reset_index(drop=True).sort_values(by='user_id')"
   ]
  },
  {
   "cell_type": "code",
   "execution_count": 72,
   "metadata": {},
   "outputs": [],
   "source": [
    "# Set index as the user_id\n",
    "merged_clean4.set_index('user_id', inplace=True)"
   ]
  },
  {
   "cell_type": "code",
   "execution_count": 73,
   "metadata": {},
   "outputs": [],
   "source": [
    "# Add the proportion reordered column\n",
    "merged_clean4['reorder_prop'] = pro_reord"
   ]
  },
  {
   "cell_type": "code",
   "execution_count": 74,
   "metadata": {},
   "outputs": [
    {
     "name": "stdout",
     "output_type": "stream",
     "text": [
      "         order_id  product_id  reordered  reorder_prop\n",
      "user_id                                               \n",
      "2         2168274       32792          0      0.038462\n",
      "4         2030307       42329          0      0.000000\n",
      "5          157374       11777          1      0.666667\n",
      "6         2086598       48679          0      0.000000\n",
      "7          369015       23712          1      0.928571\n",
      "...           ...         ...        ...           ...\n",
      "206203     395144       26209          1      0.222222\n",
      "206206    2475308       21711          1      0.714286\n",
      "206207       9620       44632          1      0.891304\n",
      "206208    3128968       27966          1      0.696000\n",
      "206209     688306       40992          0      0.320000\n",
      "\n",
      "[149626 rows x 4 columns]\n"
     ]
    }
   ],
   "source": [
    "# Printing table\n",
    "print(merged_clean4)"
   ]
  },
  {
   "cell_type": "code",
   "execution_count": 75,
   "metadata": {},
   "outputs": [
    {
     "data": {
      "text/plain": [
       "Text(0.5, 1.0, \"Customers' Item Reorder Distribution\")"
      ]
     },
     "execution_count": 75,
     "metadata": {},
     "output_type": "execute_result"
    },
    {
     "data": {
      "image/png": "[encoded data removed]",
      "text/plain": [
       "<Figure size 432x288 with 1 Axes>"
      ]
     },
     "metadata": {
      "needs_background": "light"
     },
     "output_type": "display_data"
    }
   ],
   "source": [
    "# Plot histogram of each user's reordered proportions\n",
    "merged_clean4['reorder_prop'].hist(bins=25)\n",
    "plt.xlabel('Reorder Proportion')\n",
    "plt.ylabel('Frequency')\n",
    "plt.title('Customers\\' Item Reorder Distribution')"
   ]
  },
  {
   "cell_type": "markdown",
   "metadata": {},
   "source": [
    "This shows the distribution of what proportion of customers' items are reorders."
   ]
  },
  {
   "cell_type": "code",
   "execution_count": 76,
   "metadata": {},
   "outputs": [
    {
     "name": "stdout",
     "output_type": "stream",
     "text": [
      "The initial number of users: 149626\n",
      "The number of users in the final data: 149626\n"
     ]
    }
   ],
   "source": [
    "print(\"The initial number of users:\", merged_custorders.user_id.nunique())\n",
    "print(\"The number of users in the final data:\", merged_clean4.reset_index().user_id.nunique())"
   ]
  },
  {
   "cell_type": "markdown",
   "metadata": {},
   "source": [
    "### [C5] What are the top 20 items that people put in their carts first? "
   ]
  },
  {
   "cell_type": "markdown",
   "metadata": {},
   "source": [
    "The idea here is to calculate the ratio of items ordered and when the item is first placed into people's carts. To figure this proportion out, we need to calculate:\n",
    "- the total number of times the item has been ordered\n",
    "- the total number of times the item was placed first in the cart\n",
    "\n",
    "Then rank by this ratio."
   ]
  },
  {
   "cell_type": "code",
   "execution_count": 77,
   "metadata": {},
   "outputs": [
    {
     "name": "stdout",
     "output_type": "stream",
     "text": [
      "<class 'pandas.core.frame.DataFrame'>\n",
      "Int64Index: 4545007 entries, 0 to 4545006\n",
      "Data columns (total 4 columns):\n",
      " #   Column             Dtype  \n",
      "---  ------             -----  \n",
      " 0   order_id           int64  \n",
      " 1   product_id         int64  \n",
      " 2   add_to_cart_order  float64\n",
      " 3   product_name       object \n",
      "dtypes: float64(1), int64(2), object(1)\n",
      "memory usage: 173.4+ MB\n"
     ]
    }
   ],
   "source": [
    "# Remove unrelated columns from the merged data set \n",
    "merged_clean5 = merged_orders.drop(['reordered', 'aisle_id', 'department_id'], axis='columns')\n",
    "\n",
    "merged_clean5.info()"
   ]
  },
  {
   "cell_type": "code",
   "execution_count": 78,
   "metadata": {},
   "outputs": [],
   "source": [
    "# Filter by add_to_cart_order = 1\n",
    "addtocart_list = merged_clean5.query(\"add_to_cart_order == 1\")"
   ]
  },
  {
   "cell_type": "code",
   "execution_count": 79,
   "metadata": {},
   "outputs": [
    {
     "name": "stdout",
     "output_type": "stream",
     "text": [
      "                                                               number_of_orders\n",
      "product_id product_name                                                        \n",
      "24786      No More Tangles Detangling Spray                                   1\n",
      "35262      No Drip Foam Mold and Mildew Stain Remover with...                 1\n",
      "35254      Black Pepper Croccantini                                           1\n",
      "35252      Mediterranean Chickpea Veggie Burgers                              1\n",
      "35246      6.25 Oz LifeSavers Wintogreen Peg                                  1\n",
      "35245      Vitamin E Stick                                                    1\n",
      "14873      Fruit Cocktail In Heavy Syrup                                      1\n",
      "35240      Sweet Potato Pie                                                   1\n",
      "35271      100% Colombian Ground Medium Dark Coffee                           1\n",
      "14878      California Ripe Sliced Olives                                      1\n",
      "35229      Bean & Cheese Burritos                                             1\n",
      "35225      Peach Mint Kombucha                                                1\n",
      "14888      98% Fat Free Premium Ham in Natural Juices                         1\n",
      "35224      Drink It Up Coconut Milk Conditioner                               1\n",
      "35216      York Miniatures Dark Chocolate Covered Peppermi...                 1\n",
      "35205      Jasmine Brown Rice                                                 1\n",
      "14900      Manuka Honey                                                       1\n",
      "14880      Vanilla Bean Frozen yogurt                                         1\n",
      "35195      Chinese Noodles                                                    1\n",
      "35275      Shredded Mexican Style Four Cheese                                 1\n"
     ]
    }
   ],
   "source": [
    "group = addtocart_list.groupby(['product_id', 'product_name'])\n",
    "print(group.agg(number_of_orders = ('order_id', 'count')).sort_values('number_of_orders').head(20))"
   ]
  },
  {
   "cell_type": "code",
   "execution_count": 80,
   "metadata": {},
   "outputs": [
    {
     "data": {
      "text/html": [
       "<div>\n",
       "<style scoped>\n",
       "    .dataframe tbody tr th:only-of-type {\n",
       "        vertical-align: middle;\n",
       "    }\n",
       "\n",
       "    .dataframe tbody tr th {\n",
       "        vertical-align: top;\n",
       "    }\n",
       "\n",
       "    .dataframe thead th {\n",
       "        text-align: right;\n",
       "    }\n",
       "</style>\n",
       "<table border=\"1\" class=\"dataframe\">\n",
       "  <thead>\n",
       "    <tr style=\"text-align: right;\">\n",
       "      <th></th>\n",
       "      <th></th>\n",
       "      <th>number_of_orders</th>\n",
       "    </tr>\n",
       "    <tr>\n",
       "      <th>product_id</th>\n",
       "      <th>product_name</th>\n",
       "      <th></th>\n",
       "    </tr>\n",
       "  </thead>\n",
       "  <tbody>\n",
       "    <tr>\n",
       "      <th>24852</th>\n",
       "      <th>Banana</th>\n",
       "      <td>15562</td>\n",
       "    </tr>\n",
       "    <tr>\n",
       "      <th>13176</th>\n",
       "      <th>Bag of Organic Bananas</th>\n",
       "      <td>11026</td>\n",
       "    </tr>\n",
       "    <tr>\n",
       "      <th>27845</th>\n",
       "      <th>Organic Whole Milk</th>\n",
       "      <td>4363</td>\n",
       "    </tr>\n",
       "    <tr>\n",
       "      <th>21137</th>\n",
       "      <th>Organic Strawberries</th>\n",
       "      <td>3946</td>\n",
       "    </tr>\n",
       "    <tr>\n",
       "      <th>47209</th>\n",
       "      <th>Organic Hass Avocado</th>\n",
       "      <td>3390</td>\n",
       "    </tr>\n",
       "    <tr>\n",
       "      <th>21903</th>\n",
       "      <th>Organic Baby Spinach</th>\n",
       "      <td>3336</td>\n",
       "    </tr>\n",
       "    <tr>\n",
       "      <th>47766</th>\n",
       "      <th>Organic Avocado</th>\n",
       "      <td>3044</td>\n",
       "    </tr>\n",
       "    <tr>\n",
       "      <th>19660</th>\n",
       "      <th>Spring Water</th>\n",
       "      <td>2336</td>\n",
       "    </tr>\n",
       "    <tr>\n",
       "      <th>16797</th>\n",
       "      <th>Strawberries</th>\n",
       "      <td>2308</td>\n",
       "    </tr>\n",
       "    <tr>\n",
       "      <th>27966</th>\n",
       "      <th>Organic Raspberries</th>\n",
       "      <td>2024</td>\n",
       "    </tr>\n",
       "    <tr>\n",
       "      <th>44632</th>\n",
       "      <th>Sparkling Water Grapefruit</th>\n",
       "      <td>1914</td>\n",
       "    </tr>\n",
       "    <tr>\n",
       "      <th>49235</th>\n",
       "      <th>Organic Half &amp; Half</th>\n",
       "      <td>1797</td>\n",
       "    </tr>\n",
       "    <tr>\n",
       "      <th>47626</th>\n",
       "      <th>Large Lemon</th>\n",
       "      <td>1737</td>\n",
       "    </tr>\n",
       "    <tr>\n",
       "      <th>196</th>\n",
       "      <th>Soda</th>\n",
       "      <td>1733</td>\n",
       "    </tr>\n",
       "    <tr>\n",
       "      <th>38689</th>\n",
       "      <th>Organic Reduced Fat Milk</th>\n",
       "      <td>1397</td>\n",
       "    </tr>\n",
       "    <tr>\n",
       "      <th>26209</th>\n",
       "      <th>Limes</th>\n",
       "      <td>1370</td>\n",
       "    </tr>\n",
       "    <tr>\n",
       "      <th>12341</th>\n",
       "      <th>Hass Avocados</th>\n",
       "      <td>1340</td>\n",
       "    </tr>\n",
       "    <tr>\n",
       "      <th>5785</th>\n",
       "      <th>Organic Reduced Fat 2% Milk</th>\n",
       "      <td>1310</td>\n",
       "    </tr>\n",
       "    <tr>\n",
       "      <th>27086</th>\n",
       "      <th>Half &amp; Half</th>\n",
       "      <td>1309</td>\n",
       "    </tr>\n",
       "    <tr>\n",
       "      <th>43352</th>\n",
       "      <th>Raspberries</th>\n",
       "      <td>1246</td>\n",
       "    </tr>\n",
       "  </tbody>\n",
       "</table>\n",
       "</div>"
      ],
      "text/plain": [
       "                                        number_of_orders\n",
       "product_id product_name                                 \n",
       "24852      Banana                                  15562\n",
       "13176      Bag of Organic Bananas                  11026\n",
       "27845      Organic Whole Milk                       4363\n",
       "21137      Organic Strawberries                     3946\n",
       "47209      Organic Hass Avocado                     3390\n",
       "21903      Organic Baby Spinach                     3336\n",
       "47766      Organic Avocado                          3044\n",
       "19660      Spring Water                             2336\n",
       "16797      Strawberries                             2308\n",
       "27966      Organic Raspberries                      2024\n",
       "44632      Sparkling Water Grapefruit               1914\n",
       "49235      Organic Half & Half                      1797\n",
       "47626      Large Lemon                              1737\n",
       "196        Soda                                     1733\n",
       "38689      Organic Reduced Fat Milk                 1397\n",
       "26209      Limes                                    1370\n",
       "12341      Hass Avocados                            1340\n",
       "5785       Organic Reduced Fat 2% Milk              1310\n",
       "27086      Half & Half                              1309\n",
       "43352      Raspberries                              1246"
      ]
     },
     "execution_count": 80,
     "metadata": {},
     "output_type": "execute_result"
    }
   ],
   "source": [
    "group.agg(number_of_orders = ('order_id', 'count')).sort_values('number_of_orders', ascending = False).head(20)"
   ]
  }
 ],
 "metadata": {
  "kernelspec": {
   "display_name": "Python 3.9.12 ('base')",
   "language": "python",
   "name": "python3"
  },
  "language_info": {
   "codemirror_mode": {
    "name": "ipython",
    "version": 3
   },
   "file_extension": ".py",
   "mimetype": "text/x-python",
   "name": "python",
   "nbconvert_exporter": "python",
   "pygments_lexer": "ipython3",
   "version": "3.9.12"
  },
  "orig_nbformat": 4,
  "vscode": {
   "interpreter": {
    "hash": "ad2bdc8ecc057115af97d19610ffacc2b4e99fae6737bb82f5d7fb13d2f2c186"
   }
  }
 },
 "nbformat": 4,
 "nbformat_minor": 2
}
